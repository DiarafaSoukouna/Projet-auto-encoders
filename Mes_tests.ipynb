{
  "nbformat": 4,
  "nbformat_minor": 0,
  "metadata": {
    "colab": {
      "provenance": []
    },
    "kernelspec": {
      "name": "python3",
      "display_name": "Python 3"
    },
    "language_info": {
      "name": "python"
    }
  },
  "cells": [
    {
      "cell_type": "markdown",
      "source": [
        "# Partie II : Génération de texte avec des modèles “RNN”\n",
        "Dans cette deuxième partie, nous allons entraîner et valider un modèle de type RNN pour la génération de texte, tout en identifiant d’éventuelles limites (étudiées théoriquement pendant le cours)."
      ],
      "metadata": {
        "id": "LT5GuqFDusOi"
      }
    },
    {
      "cell_type": "code",
      "execution_count": 1,
      "metadata": {
        "id": "BKgrPu9UpMgZ"
      },
      "outputs": [],
      "source": [
        "#### Importation des bibliothèques\n",
        "from tensorflow.keras.preprocessing.text import Tokenizer\n",
        "import numpy as np\n",
        "import torch\n",
        "import torch.nn as nn\n",
        "from torch.nn.utils.rnn import pad_sequence\n",
        "from torch.utils.data import Dataset, DataLoader\n",
        "import torch.optim as optim\n",
        "from torch.utils.data import random_split\n",
        "from collections import Counter\n",
        "import matplotlib.pyplot as plt\n"
      ]
    },
    {
      "cell_type": "markdown",
      "source": [
        "#### 1. Afin de procéder à notre génération de texte nous allons tout d'abord trouver un texte orignal sur l'Afrique ecri par nous-mêmes et qui servira de données d’entrainement de notre modèle de génération de texte"
      ],
      "metadata": {
        "id": "ikHG2_FiuzrD"
      }
    },
    {
      "cell_type": "code",
      "source": [
        "corpus = \"\"\"\n",
        "Quand la haine devient plus forte que l’inspiration\n",
        "On trébuche sur le texte et on en a marre des ponctuations\n",
        "Et il y a cette petite voix dans ma tête qui me dit : arrête !\n",
        "Quand même les mots se vexent si c’est pour parler de ces concepts\n",
        "Et que l’humain lui-même se déshumanise\n",
        "Face aux ambitions politiques et aux aspects capitalistes\n",
        "\n",
        "J’ai deux, trois mots pour ce monde déchiré\n",
        "Qui, obsédé par le pouvoir, en oublie sa dignité\n",
        "J’attends toujours ce changement dans ce faux discours\n",
        "Qui, avant d’être exécuté, avait déjà fait demi-tour\n",
        "Y’a des personnes qui tendent la main, y’a des pays qui le font aussi\n",
        "Je vais pas rentrer dans les détails, l’histoire est bien pourrie\n",
        "Depuis toujours, de l’injustice à répétition\n",
        "Moi, j’ai vu des enfants mourir de malnutrition\n",
        "L’Afrique a besoin de fonds pour gérer le matériel\n",
        "Et se passer des dons, sa dépendance actuelle\n",
        "Quel gâchis d’avoir une terre fertile mais pas d’argent pour acheter les graines\n",
        "Et à force, on nous apprend à cultiver de la haine\n",
        "Alors égalisons le monde à la façon Robin des Bois\n",
        "Je volerai des mots aux esclaves pour les transmettre aux rois\n",
        "\n",
        "Mais en attendant, je me bats contre le monde pour ce complexe\n",
        "Qu’on veut me faire porter, forcer le racisme avec\n",
        "Que je devrais avoir honte de mes origines, enfant africain, ça fait de la peine\n",
        "De vos cheveux, vos visages à votre couleur\n",
        "D’ébène\n",
        "Mais j’ai plus que des défauts si vous me regardez bien\n",
        "Vous aimeriez ma peau et, au fait, je n’ai honte de rien\n",
        "Alors arrêtez de créer de la différence entre les hommes\n",
        "On a tous en commun l’histoire d’Adam, d’Ève et la pomme\n",
        "Ce sont nos égos qui fortifient l’injustice\n",
        "Si on la laisse s’accroître, que dirions-nous à nos fils ?\n",
        "Qu’ils devront être guerriers dans ce monde que nous-mêmes on a détruit\n",
        "Qu’on n’a pas respecté ces mots que nous-mêmes on a écrits\n",
        "Comment oublier ces guerres et repartir à zéro ?\n",
        "Comment ferions-nous pour sourire sans que ça sonne faux ?\n",
        "Faudrait qu’on apprenne à accepter nos différences\n",
        "Qu’une couleur, une croyance n’est pas une référence\n",
        "Qu’on réalise qu’il y a des choses plus importantes que le pouvoir\n",
        "Et qu’on n’a même pas besoin de lunettes pour y voir\n",
        "\n",
        "\"\"\""
      ],
      "metadata": {
        "id": "sD06cdKFpRnh"
      },
      "execution_count": 2,
      "outputs": []
    },
    {
      "cell_type": "markdown",
      "source": [
        "Nous allons maintenant passer au prétraitement de notre corpus en faisant la tokenisation puis en calculant la fréquence des mots, ensuite on va trier les mots dans l'ordre de fréquence plus elevé. Ceci nous aidera à savoir quels sont les mots les plus frequents et c'est dans cet ordre qu'on va vectoriser nos mots a l'aide de leurs indexes dans la liste créée"
      ],
      "metadata": {
        "id": "GwVt6WqQu4ic"
      }
    },
    {
      "cell_type": "code",
      "source": [
        "#### On va tokeniser notre corpus\n",
        "words = corpus.split()"
      ],
      "metadata": {
        "id": "1McQJjrUpT4t"
      },
      "execution_count": 3,
      "outputs": []
    },
    {
      "cell_type": "code",
      "source": [
        "#### On va compter la frequence de chaque mot pour en voir les mots les plus repetés\n",
        "word_counts = Counter(words)"
      ],
      "metadata": {
        "id": "vf-rr-GnpY7F"
      },
      "execution_count": 4,
      "outputs": []
    },
    {
      "cell_type": "code",
      "source": [
        "#### On va refaire notre vocabulaire en triant pas ordre de frequence des mots\n",
        "# Création du vocabulaire trié\n",
        "vocab = sorted(word_counts, key=word_counts.get, reverse=True)\n",
        "\n",
        "# Convertir en dictionnaire {mot: index}\n",
        "vocab = {word: idx for idx, word in enumerate(vocab)}\n",
        "\n",
        "# ✅ Ajouter un token \"<unk>\" pour les mots inconnus\n",
        "if \"<unk>\" not in vocab:\n",
        "    vocab[\"<unk>\"] = len(vocab)  # Ajoute \"<unk>\" avec un nouvel index\n",
        "\n",
        "# Créer l'index inverse {index: mot}\n",
        "index_to_word = {idx: word for word, idx in vocab.items()}"
      ],
      "metadata": {
        "id": "Xd-_kwuGpbQA"
      },
      "execution_count": 6,
      "outputs": []
    },
    {
      "cell_type": "code",
      "source": [
        "# Associer un index à chaque mot\n",
        "word_to_index = {word: i for i, word in enumerate(vocab)}\n",
        "index_to_word = {i: word for word, i in word_to_index.items()}"
      ],
      "metadata": {
        "id": "Ng0Y7HFppeGE"
      },
      "execution_count": 7,
      "outputs": []
    },
    {
      "cell_type": "code",
      "source": [
        "# Convertir le texte en liste d'indices\n",
        "indexed_text = [word_to_index[word] for word in words]"
      ],
      "metadata": {
        "id": "HmKVCP33ph7d"
      },
      "execution_count": 8,
      "outputs": []
    },
    {
      "cell_type": "code",
      "source": [
        "#### Creation de notre dataset avec une classe qui prend en heritage notre indexed_text qui contient nos mots indexé et trié dans un ordre et on calcule la longueur\n",
        "#### de la liste puis on retourne un tensor avec nos x et le y a la fin\n",
        "import torch.nn.functional as F\n",
        "\n",
        "class TextDataset(Dataset):\n",
        "    def __init__(self, indexed_text, sequence_length):\n",
        "        self.indexed_text = indexed_text\n",
        "        self.sequence_length = sequence_length\n",
        "\n",
        "    def __len__(self):\n",
        "        return max(0, len(self.indexed_text) - self.sequence_length)\n",
        "\n",
        "    def __getitem__(self, index):\n",
        "        X = torch.tensor(self.indexed_text[index:index + self.sequence_length])\n",
        "        y = torch.tensor(self.indexed_text[index + 1: index + self.sequence_length + 1])\n",
        "\n",
        "        # Appliquer le padding si la séquence est plus courte que `sequence_length`\n",
        "        if len(X) < self.sequence_length:\n",
        "            padding_length = self.sequence_length - len(X)\n",
        "            X = F.pad(X, (0, padding_length), value=0)\n",
        "            y = F.pad(y, (0, padding_length), value=0)\n",
        "\n",
        "        return X, y\n"
      ],
      "metadata": {
        "id": "wxKqgmZmpkeN"
      },
      "execution_count": 9,
      "outputs": []
    },
    {
      "cell_type": "markdown",
      "source": [
        "On va maintenant définir la longueur de nos séquences et définir notre dataset.\n",
        "Pour le dataset on va diviser nos données en données d'entraînement, de test et de validation afin de pouvoir évaluer la performance de nos modèles."
      ],
      "metadata": {
        "id": "1Rf9mmgExOIw"
      }
    },
    {
      "cell_type": "code",
      "source": [
        "sequence_length=15\n",
        "dataset = TextDataset(indexed_text, sequence_length)\n",
        "\n",
        "total_size = len(dataset)\n",
        "train_size = int(total_size * 0.8)\n",
        "val_size = int(total_size * 0.1)\n",
        "test_size = total_size - train_size - val_size\n",
        "\n",
        "train_data, val_data, test_data = random_split(dataset, [train_size, val_size, test_size])\n",
        "batch_size=32\n",
        "\n",
        "train_loader = DataLoader(train_data, batch_size=batch_size, shuffle=True)\n",
        "val_loader = DataLoader(val_data, batch_size=batch_size, shuffle=False)\n",
        "test_loader = DataLoader(test_data, batch_size=batch_size, shuffle=False)"
      ],
      "metadata": {
        "id": "ql1kJ7VExLSN"
      },
      "execution_count": 10,
      "outputs": []
    },
    {
      "cell_type": "code",
      "source": [
        "print(f\"Train: {len(train_data)}, Validation: {len(val_data)}, Test: {len(test_data)}\")"
      ],
      "metadata": {
        "colab": {
          "base_uri": "https://localhost:8080/"
        },
        "id": "s1zjeeQdcLbx",
        "outputId": "8aab95b6-27ce-4d5d-e8c1-55378c0da2f1"
      },
      "execution_count": 11,
      "outputs": [
        {
          "output_type": "stream",
          "name": "stdout",
          "text": [
            "Train: 295, Validation: 36, Test: 38\n"
          ]
        }
      ]
    },
    {
      "cell_type": "markdown",
      "source": [
        "Maintenant on a fini nos prétraitements on peut maintenant passer à la prochaine étape nos données se trouvent dans train_loader, val_loader et test_loader."
      ],
      "metadata": {
        "id": "LD2COxUxb3k4"
      }
    },
    {
      "cell_type": "markdown",
      "source": [
        "#### 2. On va mettre en place à l’aide de la bibliothèque Python PyTorch, un modèle LSTM qui sera entrainé sur les données précédemment préparées"
      ],
      "metadata": {
        "id": "6wMt93-lcM-a"
      }
    },
    {
      "cell_type": "code",
      "source": [
        "class LSTMTextGenerator(nn.Module):\n",
        "    def __init__(self, vocab_size, embed_size, hidden_size, num_layers):\n",
        "        super(LSTMTextGenerator, self).__init__()\n",
        "        self.embedding = nn.Embedding(vocab_size, embed_size)\n",
        "        self.lstm = nn.LSTM(embed_size, hidden_size, num_layers, batch_first=True)\n",
        "        self.fc = nn.Linear(hidden_size, vocab_size)\n",
        "\n",
        "    def forward(self, x, hidden):\n",
        "        x = self.embedding(x)\n",
        "        out, hidden = self.lstm(x, hidden)\n",
        "        out = self.fc(out)\n",
        "        return out, hidden\n"
      ],
      "metadata": {
        "id": "ww8QjczJpsPC"
      },
      "execution_count": 12,
      "outputs": []
    },
    {
      "cell_type": "code",
      "source": [
        "#### On va definir nos hyperparamètres\n",
        "vocab_size = len(vocab)\n",
        "embed_size = 128\n",
        "hidden_size = 128\n",
        "num_layers = 1\n",
        "num_epochs = 20\n",
        "learning_rate = 0.001\n",
        "criterion = nn.CrossEntropyLoss()\n"
      ],
      "metadata": {
        "id": "oxDcPorWY_9p"
      },
      "execution_count": 13,
      "outputs": []
    },
    {
      "cell_type": "code",
      "source": [
        "model_lstm = LSTMTextGenerator(vocab_size, embed_size, hidden_size, num_layers)\n",
        "optimizer_lstm = optim.Adam(model_lstm.parameters(), lr=learning_rate)"
      ],
      "metadata": {
        "id": "MdTSTP88ZFZ2"
      },
      "execution_count": 14,
      "outputs": []
    },
    {
      "cell_type": "markdown",
      "source": [
        "#### 3. On va mettre en place à l’aide de la bibliothèque Python PyTorch, un modèle BiLSTM qui sera entrainé sur les données précédemment préparées"
      ],
      "metadata": {
        "id": "vLWFHBEcjun-"
      }
    },
    {
      "cell_type": "code",
      "source": [
        "class BiLSTMTextGenerator(nn.Module):\n",
        "    def __init__(self, vocab_size, embed_size, hidden_size, num_layers):\n",
        "        super(BiLSTMTextGenerator, self).__init__()\n",
        "        self.embedding = nn.Embedding(vocab_size, embed_size)\n",
        "        self.bilstm = nn.LSTM(embed_size, hidden_size, num_layers, batch_first=True, bidirectional=True)\n",
        "        self.fc = nn.Linear(hidden_size * 2, vocab_size)\n",
        "\n",
        "    def forward(self, x, hidden):\n",
        "        x = self.embedding(x)\n",
        "        out, hidden = self.bilstm(x, hidden)\n",
        "        out = self.fc(out)\n",
        "        return out, hidden\n"
      ],
      "metadata": {
        "id": "Ze7w4dZkjlfy"
      },
      "execution_count": 15,
      "outputs": []
    },
    {
      "cell_type": "code",
      "source": [
        "model_bilstm = BiLSTMTextGenerator(vocab_size, embed_size, hidden_size, num_layers)\n",
        "optimizer_bilstm = optim.Adam(model_bilstm.parameters(), lr=learning_rate)"
      ],
      "metadata": {
        "id": "1Su0YmjmZhzY"
      },
      "execution_count": 16,
      "outputs": []
    },
    {
      "cell_type": "markdown",
      "source": [
        "#### 4. On va passer maintenant à l'entraînement de nos modèles précedemment construit"
      ],
      "metadata": {
        "id": "AO3eEZ7Gkhcw"
      }
    },
    {
      "cell_type": "markdown",
      "source": [
        "Pour que ça paraisse le plus fluide possible on va traiter par fonctions.\n",
        "De ce fait, on va définir notre fonction train qui va prendre tout ce qui est nécessaire en paramètres et va nous faire l'entrainement directement."
      ],
      "metadata": {
        "id": "6ib9XtqJXalH"
      }
    },
    {
      "cell_type": "code",
      "source": [
        "def train(model, criterion, optimizer, train_loader, val_loader, test_loader, num_epochs, vocab_size, device=\"cpu\" ):\n",
        "    model.to(device)\n",
        "    train_losses = []\n",
        "    val_losses = []\n",
        "\n",
        "    for epoch in range(num_epochs):\n",
        "        model.train()\n",
        "        total_loss = 0\n",
        "\n",
        "        for X_batch, y_batch in train_loader:\n",
        "            X_batch, y_batch = X_batch.to(device), y_batch.to(device)\n",
        "            optimizer.zero_grad()\n",
        "\n",
        "            # Réinitialiser hidden à chaque batch\n",
        "            hidden = None\n",
        "\n",
        "            # Forward pass\n",
        "            output, hidden = model(X_batch, hidden)\n",
        "            loss = criterion(output.view(-1, vocab_size), y_batch.view(-1))\n",
        "            total_loss += loss.item()\n",
        "\n",
        "            # Backward pass\n",
        "            loss.backward()\n",
        "            optimizer.step()\n",
        "\n",
        "        # Calcul de la perte moyenne sur l'ensemble d'entraînement\n",
        "        avg_train_loss = total_loss / len(train_loader)\n",
        "        train_losses.append(avg_train_loss)\n",
        "\n",
        "        # Évaluation sur les données de validation\n",
        "        avg_val_loss = evaluate(model, criterion, val_loader, vocab_size, device)\n",
        "        val_losses.append(avg_val_loss)\n",
        "\n",
        "        print(f\"Epoch [{epoch+1}/{num_epochs}] - Train Loss: {avg_train_loss:.4f} | Val Loss: {avg_val_loss:.4f}\")\n",
        "\n",
        "    # Test final après l'entraînement\n",
        "    test_loss = evaluate(model, criterion, test_loader, vocab_size, device)\n",
        "    print(f\"Final Test Loss: {test_loss:.4f}\")\n",
        "    return train_losses, val_losses\n",
        "\n",
        "def evaluate(model, criterion, dataloader, vocab_size, device=\"cpu\"):\n",
        "    model.eval()\n",
        "    total_loss = 0\n",
        "\n",
        "    with torch.no_grad():\n",
        "        for X_batch, y_batch in dataloader:\n",
        "            X_batch, y_batch = X_batch.to(device), y_batch.to(device)\n",
        "\n",
        "            # Réinitialiser hidden à chaque batch\n",
        "            hidden = None\n",
        "\n",
        "            # Forward pass\n",
        "            output, hidden = model(X_batch, hidden)\n",
        "            loss = criterion(output.view(-1, vocab_size), y_batch.view(-1))\n",
        "            total_loss += loss.item()\n",
        "\n",
        "    return total_loss / len(dataloader)"
      ],
      "metadata": {
        "id": "fn_2f6N9TjdT"
      },
      "execution_count": 17,
      "outputs": []
    },
    {
      "cell_type": "markdown",
      "source": [
        "Entraînement sur le corpus avec le modèle Lstm"
      ],
      "metadata": {
        "id": "PjIoZkJeZ1ds"
      }
    },
    {
      "cell_type": "code",
      "source": [
        "train_losses_lstm, val_losses_lstm = train(model_lstm, criterion, optimizer_lstm, train_loader, val_loader, test_loader, num_epochs, vocab_size, device=\"cpu\")"
      ],
      "metadata": {
        "colab": {
          "base_uri": "https://localhost:8080/"
        },
        "id": "IN1liUSKWTS1",
        "outputId": "c789264d-3f5d-40e0-bd4b-c39626dc8025"
      },
      "execution_count": 18,
      "outputs": [
        {
          "output_type": "stream",
          "name": "stdout",
          "text": [
            "Epoch [1/20] - Train Loss: 5.3915 | Val Loss: 5.2702\n",
            "Epoch [2/20] - Train Loss: 5.1548 | Val Loss: 5.0419\n",
            "Epoch [3/20] - Train Loss: 4.8372 | Val Loss: 4.6686\n",
            "Epoch [4/20] - Train Loss: 4.3476 | Val Loss: 4.1468\n",
            "Epoch [5/20] - Train Loss: 3.7316 | Val Loss: 3.5525\n",
            "Epoch [6/20] - Train Loss: 3.1036 | Val Loss: 2.9361\n",
            "Epoch [7/20] - Train Loss: 2.4505 | Val Loss: 2.3306\n",
            "Epoch [8/20] - Train Loss: 1.9234 | Val Loss: 1.8066\n",
            "Epoch [9/20] - Train Loss: 1.4789 | Val Loss: 1.3758\n",
            "Epoch [10/20] - Train Loss: 1.1320 | Val Loss: 1.0635\n",
            "Epoch [11/20] - Train Loss: 0.8877 | Val Loss: 0.8457\n",
            "Epoch [12/20] - Train Loss: 0.7163 | Val Loss: 0.6972\n",
            "Epoch [13/20] - Train Loss: 0.5952 | Val Loss: 0.5902\n",
            "Epoch [14/20] - Train Loss: 0.5057 | Val Loss: 0.5153\n",
            "Epoch [15/20] - Train Loss: 0.4379 | Val Loss: 0.4566\n",
            "Epoch [16/20] - Train Loss: 0.3874 | Val Loss: 0.4097\n",
            "Epoch [17/20] - Train Loss: 0.3477 | Val Loss: 0.3775\n",
            "Epoch [18/20] - Train Loss: 0.3159 | Val Loss: 0.3522\n",
            "Epoch [19/20] - Train Loss: 0.2882 | Val Loss: 0.3305\n",
            "Epoch [20/20] - Train Loss: 0.2642 | Val Loss: 0.3135\n",
            "Final Test Loss: 0.3249\n"
          ]
        }
      ]
    },
    {
      "cell_type": "markdown",
      "source": [
        "Entraînement sur le corpus avec le modele biLstm"
      ],
      "metadata": {
        "id": "Dd5gDhug9WeX"
      }
    },
    {
      "cell_type": "code",
      "source": [
        "train_losses_bilstm, val_losses_bilstm = train(model_bilstm, criterion, optimizer_bilstm, train_loader, val_loader, test_loader, num_epochs, vocab_size, device=\"cpu\")"
      ],
      "metadata": {
        "colab": {
          "base_uri": "https://localhost:8080/"
        },
        "id": "QVqGWwlbaR6_",
        "outputId": "719a7db0-5824-46a0-aa2b-86aa5b06164f"
      },
      "execution_count": 19,
      "outputs": [
        {
          "output_type": "stream",
          "name": "stdout",
          "text": [
            "Epoch [1/20] - Train Loss: 5.3223 | Val Loss: 5.1186\n",
            "Epoch [2/20] - Train Loss: 4.8945 | Val Loss: 4.6345\n",
            "Epoch [3/20] - Train Loss: 4.2456 | Val Loss: 3.8624\n",
            "Epoch [4/20] - Train Loss: 3.3406 | Val Loss: 2.9288\n",
            "Epoch [5/20] - Train Loss: 2.3551 | Val Loss: 1.9505\n",
            "Epoch [6/20] - Train Loss: 1.4662 | Val Loss: 1.1712\n",
            "Epoch [7/20] - Train Loss: 0.8301 | Val Loss: 0.6620\n",
            "Epoch [8/20] - Train Loss: 0.4825 | Val Loss: 0.4093\n",
            "Epoch [9/20] - Train Loss: 0.3127 | Val Loss: 0.2839\n",
            "Epoch [10/20] - Train Loss: 0.2204 | Val Loss: 0.2123\n",
            "Epoch [11/20] - Train Loss: 0.1667 | Val Loss: 0.1726\n",
            "Epoch [12/20] - Train Loss: 0.1341 | Val Loss: 0.1466\n",
            "Epoch [13/20] - Train Loss: 0.1105 | Val Loss: 0.1286\n",
            "Epoch [14/20] - Train Loss: 0.0940 | Val Loss: 0.1145\n",
            "Epoch [15/20] - Train Loss: 0.0813 | Val Loss: 0.1029\n",
            "Epoch [16/20] - Train Loss: 0.0718 | Val Loss: 0.0938\n",
            "Epoch [17/20] - Train Loss: 0.0635 | Val Loss: 0.0863\n",
            "Epoch [18/20] - Train Loss: 0.0592 | Val Loss: 0.0795\n",
            "Epoch [19/20] - Train Loss: 0.0501 | Val Loss: 0.0740\n",
            "Epoch [20/20] - Train Loss: 0.0455 | Val Loss: 0.0690\n",
            "Final Test Loss: 0.0761\n"
          ]
        }
      ]
    },
    {
      "cell_type": "markdown",
      "source": [
        "Afin de pouvoir visualiser plus clairement la différence entre les pertes dans dans les données d'entrainement et les pertes dans les données de validation on va mettre en place un graphique capable d'illustrer tout ça"
      ],
      "metadata": {
        "id": "OoERLJ-B9ZiH"
      }
    },
    {
      "cell_type": "code",
      "source": [
        "def plot_loss(train_losses, val_losses, model_name):\n",
        "    plt.plot(train_losses, label='Train Loss for '+ model_name)\n",
        "    plt.plot(val_losses, label='Validation Loss for '+ model_name)\n",
        "    plt.xlabel('Epoch')\n",
        "    plt.ylabel('Loss')\n",
        "    plt.title('Training and Validation Loss for '+ model_name)\n",
        "    plt.legend()\n",
        "    plt.show()"
      ],
      "metadata": {
        "id": "d7FNEQDj_yw9"
      },
      "execution_count": 20,
      "outputs": []
    },
    {
      "cell_type": "code",
      "source": [
        "plot_loss(train_losses_lstm, val_losses_lstm, 'LSTM')"
      ],
      "metadata": {
        "colab": {
          "base_uri": "https://localhost:8080/",
          "height": 472
        },
        "id": "l1GUr9E-AHmD",
        "outputId": "e0c3826f-a51a-4fd9-c8ae-5a5b45ce9de2"
      },
      "execution_count": 21,
      "outputs": [
        {
          "output_type": "display_data",
          "data": {
            "text/plain": [
              "<Figure size 640x480 with 1 Axes>"
            ],
            "image/png": "[encoded data removed]"
          },
          "metadata": {}
        }
      ]
    },
    {
      "cell_type": "code",
      "source": [
        "plot_loss(train_losses_bilstm, val_losses_bilstm, 'BiLSTM')"
      ],
      "metadata": {
        "colab": {
          "base_uri": "https://localhost:8080/",
          "height": 472
        },
        "id": "dnt7zC2LPyl1",
        "outputId": "7f06074d-32e0-4d50-947a-1cf6df99a0b0"
      },
      "execution_count": 22,
      "outputs": [
        {
          "output_type": "display_data",
          "data": {
            "text/plain": [
              "<Figure size 640x480 with 1 Axes>"
            ],
            "image/png": "[encoded data removed]"
          },
          "metadata": {}
        }
      ]
    },
    {
      "cell_type": "markdown",
      "source": [
        "#### 5. On va maintenant utiliser nos modèles entrainés pour générer la suite de trois diﬀérentes phrases (pour chaque modèle) qu'on va initier avec seulement deux ou trois mots."
      ],
      "metadata": {
        "id": "bk7nNnUs-W_A"
      }
    },
    {
      "cell_type": "markdown",
      "source": [
        "Pour ce faire nous allons maintenant définir une fonction de génération de texte qui va prendre en paramètres nos débuts de phrases et la longueur des phrases qu'on souhaite avoir puis va nous générer la suite par rapport aux mots inités."
      ],
      "metadata": {
        "id": "vie3hypU-wVc"
      }
    },
    {
      "cell_type": "code",
      "source": [
        "def generate_text(model, start_text, length=50, sequence_length=10):\n",
        "\n",
        "    model.eval()\n",
        "    generated_texts = []\n",
        "\n",
        "    for start in start_text:\n",
        "        text = start.split()\n",
        "        hidden = None\n",
        "\n",
        "        with torch.no_grad():\n",
        "            for _ in range(length):\n",
        "                input_tensor = torch.tensor([[word_to_index.get(word, word_to_index[\"<unk>\"]) for word in text[-sequence_length:]]])\n",
        "                output, hidden = model(input_tensor, hidden)\n",
        "\n",
        "                predicted_index = torch.argmax(output[0, -1, :]).item()\n",
        "                predicted_word = index_to_word[predicted_index]\n",
        "                text.append(predicted_word)\n",
        "\n",
        "        # Ajouter le texte généré à la liste\n",
        "        generated_texts.append(\" \".join(text))\n",
        "\n",
        "    return generated_texts"
      ],
      "metadata": {
        "id": "lwfqnJfLqesO"
      },
      "execution_count": 23,
      "outputs": []
    },
    {
      "cell_type": "markdown",
      "source": [
        "Nous allons maintenant appeler cette fonction de génération sur le modèle lstm puis sur le modèle bilstm en donnant à chaque fois nos trois debuts de phrases pour effectuer la génération."
      ],
      "metadata": {
        "id": "rPu36x7QD1JR"
      }
    },
    {
      "cell_type": "code",
      "source": [
        "generated_text_lstm = generate_text(model_lstm, [\"Le pouvoir\", \"L'afrique est\", \"Depuis toujours\"], length=50)\n",
        "generated_text_lstm"
      ],
      "metadata": {
        "id": "ed1uBa_8rYAg",
        "colab": {
          "base_uri": "https://localhost:8080/"
        },
        "outputId": "dc6603ae-4309-4dc2-c060-462a5775b127"
      },
      "execution_count": 24,
      "outputs": [
        {
          "output_type": "execute_result",
          "data": {
            "text/plain": [
              "['Le pouvoir Et se passer des dons, sa dépendance actuelle Quel gâchis d’avoir une terre fertile mais pas d’argent pour acheter les graines Et à force, on nous apprend à cultiver de la haine Alors égalisons le monde à la façon Robin des Bois Je volerai des mots aux esclaves pour les',\n",
              " \"L'afrique est bien pourrie Depuis toujours, de l’injustice à répétition Moi, j’ai vu des enfants mourir de malnutrition L’Afrique a besoin de fonds pour gérer le matériel Et se passer des dons, sa dépendance actuelle Quel gâchis d’avoir une terre fertile mais pas d’argent pour acheter les graines Et à force, on\",\n",
              " 'Depuis toujours ce faux discours Qui, avant d’être exécuté, avait déjà fait demi-tour Y’a des personnes qui tendent la main, y’a des pays qui le font aussi Je vais pas rentrer dans les détails, l’histoire est bien pourrie Depuis toujours, de l’injustice à répétition Moi, j’ai vu des enfants mourir de malnutrition']"
            ]
          },
          "metadata": {},
          "execution_count": 24
        }
      ]
    },
    {
      "cell_type": "code",
      "source": [
        "generated_text_bilstm = generate_text(model_bilstm, [\"Le pouvoir\", \"L'afrique est\", \"Depuis toujours\"], length=50)\n",
        "generated_text_bilstm"
      ],
      "metadata": {
        "colab": {
          "base_uri": "https://localhost:8080/"
        },
        "id": "WymQhlAHbSSS",
        "outputId": "68662282-ae1f-4dba-ad11-a8dea6c4d927"
      },
      "execution_count": 25,
      "outputs": [
        {
          "output_type": "execute_result",
          "data": {
            "text/plain": [
              "['Le pouvoir Et que l’humain lui-même se déshumanise Face aux ambitions politiques et aux aspects capitalistes J’ai deux, trois mots aux ambitions politiques et aux aspects capitalistes J’ai deux, trois mots aux ambitions politiques et aux aspects capitalistes J’ai deux, trois mots aux ambitions politiques et aux aspects capitalistes J’ai deux, trois',\n",
              " \"L'afrique est bien pourrie Depuis toujours, de l’injustice à répétition Moi, j’ai vu des enfants mourir de malnutrition L’Afrique à répétition Moi, j’ai vu des enfants mourir de malnutrition L’Afrique à répétition Moi, j’ai vu des enfants mourir de malnutrition L’Afrique à répétition Moi, j’ai vu des enfants mourir de malnutrition L’Afrique\",\n",
              " 'Depuis toujours ce monde déchiré Qui, obsédé par le pouvoir, en oublie sa dignité J’attends toujours ce monde déchiré Qui, obsédé par le pouvoir, en oublie sa dignité J’attends toujours ce monde déchiré Qui, obsédé par le pouvoir, en oublie sa dignité J’attends toujours ce monde déchiré Qui, obsédé par le pouvoir,']"
            ]
          },
          "metadata": {},
          "execution_count": 25
        }
      ]
    },
    {
      "cell_type": "markdown",
      "source": [
        "#### 6. Sur la base de ces résultats d’entrainement et d’inférence nous remarquons que le modèle Bilstm a plus de performance que le modèle Lstm car par rapport aux résultats d'entrainements on voit les pertes flagrantes du modèle lstm par rapport au modèle bisltm et avec l'inférence également. Cette situation pouvait être prévisible car en théorie le modèle bilstm est connu pour avoir plus de performance que le modèle lstm car il effectue un lstm double et parcourt le texte deux fois dans les deux sens donc c'est le modele bilstm qui l'emporte."
      ],
      "metadata": {
        "id": "DACNY283EzvN"
      }
    },
    {
      "cell_type": "markdown",
      "source": [
        "#### 7. Selon nous, les limites de la solution mise en place en terme de qualité des données, des modèles et de l'architecture choisie :\n",
        "- **Qualité des données** :\n",
        "Le corpus présente des limites comme l'absence de ponctuation et des phrases longues, ce qui peut nuire à la qualité du texte généré. Une meilleure structuration des données aurait amélioré les résultats.\n",
        "- **Modèle (LSTM/GRU vs BiLSTM/BiGRU vs Alternatives)** :\n",
        "LSTM : Efficace, mais lourd et nécessite de nombreux paramètres.\n",
        "GRU : Plus léger que l'LSTM, avec des performances similaires, mais plus rapide.\n",
        "BiLSTM/BiGRU : Améliore la compréhension du contexte en traversant la séquence dans les deux sens, mais consomme plus de ressources.\n",
        "Alternatives : Des modèles comme Transformers (BERT, GPT) peuvent offrir de meilleures performances, surtout pour des tâches complexes.\n",
        "- **Architecture choisie** :\n",
        "L'architecture avec 128 neurones et 2 couches est adaptée au corpus actuel, mais pour des données plus complexes, il faudrait peut-être plus de couches et de neurones.\n",
        "CrossEntropyLoss est bien adaptée pour la classification multiclasses, mais d'autres fonctions de perte comme CTC Loss pourraient être explorées pour des tâches séquentielles.\n",
        "- **Ressources et calcul** :\n",
        "Les modèles BiLSTM et BiGRU augmentent les besoins en ressources, ce qui peut ralentir l'entraînement et poser problème avec des jeux de données volumineux. Des architectures plus légères ou des modèles comme les Transformers pourraient être plus efficaces."
      ],
      "metadata": {
        "id": "VcgLR_1AJjus"
      }
    },
    {
      "cell_type": "markdown",
      "source": [
        "#### 8. Une solution alternative à la majeure partie de ces limitations\n",
        "Une solution alternative pour surmonter la majeure partie de ces limitations des modèles LSTM, GRU, BiLSTM et BiGRU est l’utilisation des Transformers.\n",
        "\n",
        "Les modèles Transformers comme BERT ou GPT sont plus efficaces pour traiter des séquences de texte complexes. Contrairement aux RNN (LSTM/GRU), les Transformers utilisent des mécanismes d'attention qui leur permettent de traiter des relations à long terme sans dépendre de la structure séquentielle, ce qui améliore considérablement la vitesse d'entraînement et la qualité des résultats, tout en étant plus performants sur des jeux de données volumineux.\n",
        "\n",
        "Les Transformers sont aussi parallélisables, ce qui accélère l'entraînement par rapport aux RNN qui doivent traiter les données de manière séquentielle. Ils peuvent également traiter plus efficacement des contextes longs et capturer des dépendances globales dans les données."
      ],
      "metadata": {
        "id": "SMP6HXNRVMw8"
      }
    },
    {
      "cell_type": "markdown",
      "source": [
        "# Partie III: Synthèse de texte à l’aide d’unauto-encoder“RNN”"
      ],
      "metadata": {
        "id": "J-fgfrM8VUDA"
      }
    },
    {
      "cell_type": "markdown",
      "source": [
        "Nous allons utiliser un **auto-encodeur** pour la synthèse de texte. Plus précisément, nous allons appliquer cet auto-encodeur sur un modèle **BiLSTM**. Pour ce faire, nous commencerons par diviser notre corpus en **données d'entraînement** et **données de test**. Cette approche nous permettra d'exploiter la capacité du modèle à encoder et décoder des séquences de texte de manière plus efficace, tout en améliorant la qualité de la synthèse."
      ],
      "metadata": {
        "id": "RrVQneSjVhkS"
      }
    },
    {
      "cell_type": "code",
      "source": [
        "#### Separation de notre corpus\n",
        "train_size = int(0.8 * len(dataset))\n",
        "test_size = len(dataset) - train_size\n",
        "train_dataset, test_dataset = random_split(dataset, [train_size, test_size])\n"
      ],
      "metadata": {
        "id": "ciiyCpTMTLpr"
      },
      "execution_count": 26,
      "outputs": []
    },
    {
      "cell_type": "code",
      "source": [
        "batch_size = 2\n",
        "train_loader = DataLoader(train_dataset, batch_size=batch_size, shuffle=True)\n",
        "test_loader = DataLoader(test_dataset, batch_size=batch_size, shuffle=False)"
      ],
      "metadata": {
        "id": "Q4fmkzhtYwnO"
      },
      "execution_count": 27,
      "outputs": []
    },
    {
      "cell_type": "code",
      "source": [
        "class LSTMAutoencoder(nn.Module):\n",
        "    def __init__(self, vocab_size, embed_size, hidden_size, num_layers, bidirectional=True):\n",
        "        super(LSTMAutoencoder, self).__init__()\n",
        "        self.embedding = nn.Embedding(vocab_size, embed_size)\n",
        "\n",
        "        # Encoder bidirectionnel\n",
        "        self.encoder_lstm = nn.LSTM(\n",
        "            embed_size,\n",
        "            hidden_size,\n",
        "            num_layers,\n",
        "            batch_first=True,\n",
        "            bidirectional=bidirectional\n",
        "        )\n",
        "\n",
        "        # Decoder unidirectionnel\n",
        "        self.decoder_lstm = nn.LSTM(\n",
        "            hidden_size * (2 if bidirectional else 1),\n",
        "            hidden_size,\n",
        "            num_layers,\n",
        "            batch_first=True\n",
        "        )\n",
        "\n",
        "        self.fc = nn.Linear(hidden_size, vocab_size)\n",
        "\n",
        "    def forward(self, x):\n",
        "        embedded = self.embedding(x)\n",
        "        encoder_out, (h, c) = self.encoder_lstm(embedded)\n",
        "\n",
        "        if self.encoder_lstm.bidirectional:\n",
        "            # Réorganisation des états cachés (couches × directions → couches × batch × hidden_size)\n",
        "            h = h.view(self.encoder_lstm.num_layers, 2, -1, self.encoder_lstm.hidden_size)\n",
        "            h = h.mean(dim=1)\n",
        "\n",
        "            c = c.view(self.encoder_lstm.num_layers, 2, -1, self.encoder_lstm.hidden_size)\n",
        "            c = c.mean(dim=1)\n",
        "\n",
        "        decoder_out, _ = self.decoder_lstm(encoder_out, (h, c))\n",
        "        output = self.fc(decoder_out)\n",
        "\n",
        "        return output.permute(0, 2, 1)\n",
        ""
      ],
      "metadata": {
        "id": "EXlvpX1iY11m"
      },
      "execution_count": 28,
      "outputs": []
    },
    {
      "cell_type": "code",
      "source": [
        "embed_size = 256\n",
        "hidden_size = 256\n",
        "num_layers = 2\n",
        "num_epochs = 50\n",
        "learning_rate = 0.002\n",
        "bidirectional = True"
      ],
      "metadata": {
        "id": "hUsUPW3pY_7a"
      },
      "execution_count": 29,
      "outputs": []
    },
    {
      "cell_type": "code",
      "source": [
        "model = LSTMAutoencoder(vocab_size, embed_size, hidden_size, num_layers, bidirectional)\n",
        "criterion = nn.CrossEntropyLoss()\n",
        "optimizer = optim.Adam(model.parameters(), lr=learning_rate)"
      ],
      "metadata": {
        "id": "6x4tiwQgZDWF"
      },
      "execution_count": 30,
      "outputs": []
    },
    {
      "cell_type": "code",
      "source": [
        "for epoch in range(num_epochs):\n",
        "    model.train()\n",
        "    total_loss = 0\n",
        "    for X, y in train_loader:\n",
        "        optimizer.zero_grad()\n",
        "        output = model(X)\n",
        "\n",
        "        loss = criterion(output, y)\n",
        "\n",
        "        loss.backward()\n",
        "        optimizer.step()\n",
        "        total_loss += loss.item()\n",
        "\n",
        "    print(f\"Epoch [{epoch+1}/{num_epochs}], Train Loss: {total_loss / len(train_loader):.4f}\")\n"
      ],
      "metadata": {
        "colab": {
          "base_uri": "https://localhost:8080/"
        },
        "id": "g9lnngLGZHir",
        "outputId": "fad8cd16-17e1-42df-a611-35cf457a1417"
      },
      "execution_count": 31,
      "outputs": [
        {
          "output_type": "stream",
          "name": "stdout",
          "text": [
            "Epoch [1/50], Train Loss: 4.7107\n",
            "Epoch [2/50], Train Loss: 2.7982\n",
            "Epoch [3/50], Train Loss: 1.0874\n",
            "Epoch [4/50], Train Loss: 0.3710\n",
            "Epoch [5/50], Train Loss: 0.1412\n",
            "Epoch [6/50], Train Loss: 0.0570\n",
            "Epoch [7/50], Train Loss: 0.0270\n",
            "Epoch [8/50], Train Loss: 0.0162\n",
            "Epoch [9/50], Train Loss: 0.0117\n",
            "Epoch [10/50], Train Loss: 0.0089\n",
            "Epoch [11/50], Train Loss: 0.0071\n",
            "Epoch [12/50], Train Loss: 0.0058\n",
            "Epoch [13/50], Train Loss: 0.0048\n",
            "Epoch [14/50], Train Loss: 0.0041\n",
            "Epoch [15/50], Train Loss: 0.0035\n",
            "Epoch [16/50], Train Loss: 0.0030\n",
            "Epoch [17/50], Train Loss: 0.0026\n",
            "Epoch [18/50], Train Loss: 0.0023\n",
            "Epoch [19/50], Train Loss: 0.0020\n",
            "Epoch [20/50], Train Loss: 0.0017\n",
            "Epoch [21/50], Train Loss: 0.0015\n",
            "Epoch [22/50], Train Loss: 0.0014\n",
            "Epoch [23/50], Train Loss: 0.0012\n",
            "Epoch [24/50], Train Loss: 0.0011\n",
            "Epoch [25/50], Train Loss: 0.0010\n",
            "Epoch [26/50], Train Loss: 0.0009\n",
            "Epoch [27/50], Train Loss: 0.0008\n",
            "Epoch [28/50], Train Loss: 0.0007\n",
            "Epoch [29/50], Train Loss: 0.0007\n",
            "Epoch [30/50], Train Loss: 0.0006\n",
            "Epoch [31/50], Train Loss: 0.0005\n",
            "Epoch [32/50], Train Loss: 0.0005\n",
            "Epoch [33/50], Train Loss: 0.0004\n",
            "Epoch [34/50], Train Loss: 0.0004\n",
            "Epoch [35/50], Train Loss: 0.0004\n",
            "Epoch [36/50], Train Loss: 0.0003\n",
            "Epoch [37/50], Train Loss: 0.0003\n",
            "Epoch [38/50], Train Loss: 0.0003\n",
            "Epoch [39/50], Train Loss: 0.0003\n",
            "Epoch [40/50], Train Loss: 0.0002\n",
            "Epoch [41/50], Train Loss: 0.0002\n",
            "Epoch [42/50], Train Loss: 0.0002\n",
            "Epoch [43/50], Train Loss: 0.0002\n",
            "Epoch [44/50], Train Loss: 0.0002\n",
            "Epoch [45/50], Train Loss: 0.0002\n",
            "Epoch [46/50], Train Loss: 0.0001\n",
            "Epoch [47/50], Train Loss: 0.0001\n",
            "Epoch [48/50], Train Loss: 0.0001\n",
            "Epoch [49/50], Train Loss: 0.0001\n",
            "Epoch [50/50], Train Loss: 0.0001\n"
          ]
        }
      ]
    },
    {
      "cell_type": "code",
      "source": [
        "model.eval()\n",
        "test_loss = 0\n",
        "with torch.no_grad():\n",
        "    for X, y in test_loader:\n",
        "        output = model(X)\n",
        "        loss = criterion(output, y)\n",
        "        test_loss += loss.item()\n",
        "\n",
        "print(f\"\\nTest Loss: {test_loss / len(test_loader):.4f}\")"
      ],
      "metadata": {
        "colab": {
          "base_uri": "https://localhost:8080/"
        },
        "id": "um6skb6tfjxM",
        "outputId": "8a0d79d8-b4b2-43db-f8bd-8215ea9d2d22"
      },
      "execution_count": 32,
      "outputs": [
        {
          "output_type": "stream",
          "name": "stdout",
          "text": [
            "\n",
            "Test Loss: 0.1325\n"
          ]
        }
      ]
    },
    {
      "cell_type": "code",
      "source": [
        "def summarize_corpus(model, corpus_text):\n",
        "    \"\"\" Résume l'ensemble du corpus en une seule fois \"\"\"\n",
        "    model.eval()\n",
        "    with torch.no_grad():\n",
        "        indexed_corpus = [word_to_index.get(word, word_to_index[\"<unk>\"]) for word in corpus_text.split()]\n",
        "        input_tensor = torch.tensor(indexed_corpus).unsqueeze(0)  # Ajouter batch dimension\n",
        "        output_tensor = model(input_tensor)\n",
        "        output_indices = torch.argmax(output_tensor, dim=1).squeeze().tolist()\n",
        "        summarized_corpus = \" \".join(index_to_word[idx] for idx in output_indices)\n",
        "        return summarized_corpus\n",
        "\n",
        "# Reconstruction du texte global à partir de test_loader\n",
        "test_corpus = []\n",
        "for test_X, _ in test_loader:\n",
        "    for i in range(test_X.size(0)):\n",
        "        sentence = \" \".join(index_to_word[idx.item()] for idx in test_X[i])\n",
        "        test_corpus.append(sentence)\n",
        "\n",
        "global_test_text = \" \".join(test_corpus)\n",
        "\n",
        "global_summary = summarize_corpus(model, global_test_text)\n",
        "\n",
        "print(\"=\" * 80)\n",
        "print(\"\\033[1m📜 TEXTE ORIGINAL (Données de test) 📜\\033[0m\")\n",
        "print(\"=\" * 80)\n",
        "print(\"\\n\".join(test_corpus[:10]))\n",
        "print(\"...\\n\")\n",
        "print(\"=\" * 80)\n",
        "print(\"\\033[1m✍️  RÉSUMÉ GÉNÉRÉ  ✍️\\033[0m\")\n",
        "print(\"=\" * 80)\n",
        "print(global_summary)\n",
        "print(\"=\" * 80)\n"
      ],
      "metadata": {
        "colab": {
          "base_uri": "https://localhost:8080/"
        },
        "id": "iZF6QkdNTRDS",
        "outputId": "902672db-06ef-4a47-9d38-4a52a501def4"
      },
      "execution_count": 35,
      "outputs": [
        {
          "output_type": "stream",
          "name": "stdout",
          "text": [
            "================================================================================\n",
            "\u001b[1m📜 TEXTE ORIGINAL (Données de test) 📜\u001b[0m\n",
            "================================================================================\n",
            "Je vais pas rentrer dans les détails, l’histoire est bien pourrie Depuis toujours, de l’injustice\n",
            "des dons, sa dépendance actuelle Quel gâchis d’avoir une terre fertile mais pas d’argent pour\n",
            "acheter les graines Et à force, on nous apprend à cultiver de la haine Alors\n",
            "politiques et aux aspects capitalistes J’ai deux, trois mots pour ce monde déchiré Qui, obsédé\n",
            "respecté ces mots que nous-mêmes on a écrits Comment oublier ces guerres et repartir à\n",
            "le matériel Et se passer des dons, sa dépendance actuelle Quel gâchis d’avoir une terre\n",
            "vu des enfants mourir de malnutrition L’Afrique a besoin de fonds pour gérer le matériel\n",
            "aussi Je vais pas rentrer dans les détails, l’histoire est bien pourrie Depuis toujours, de\n",
            "mots aux esclaves pour les transmettre aux rois Mais en attendant, je me bats contre\n",
            "ça fait de la peine De vos cheveux, vos visages à votre couleur D’ébène Mais\n",
            "...\n",
            "\n",
            "================================================================================\n",
            "\u001b[1m✍️  RÉSUMÉ GÉNÉRÉ  ✍️\u001b[0m\n",
            "================================================================================\n",
            "si dans rentrer dans les détails, l’histoire est bien pourrie Depuis toujours, de l’injustice à mots se aux actuelle Quel gâchis d’avoir une terre fertile mais pas d’argent pour acheter les graines Et à force, on nous apprend à cultiver de la haine Alors égalisons hommes Qu’ils ? cheveux, Mais besoin pour mots pour ce monde déchiré Qui, obsédé par le mots que nous-mêmes on a écrits Comment oublier ces guerres et repartir à zéro Comment à se vexent pour défauts sa dépendance actuelle Quel gâchis bats une terre fait, le racisme les de rien L’Afrique a besoin de fonds pour gérer le matériel Et passer même pas Faudrait dans les aux l’histoire est bien pourrie Depuis toujours, de rien se ? pour ce transmettre aux rois Mais en attendant, je me bats contre toujours, toujours, de la peine De vos cheveux, vos visages à votre couleur D’ébène Mais j’ai couleur j’ai pour monde de ces ça Robin des Bois Je volerai des mots Et mots Et on en a marre des ponctuations Et il y a cette petite voix des mots des y a des choses plus importantes que le pouvoir Et qu’on le il pouvoir égalisons le texte à la façon Robin des Bois Je volerai des Bois Je qui le font aussi Je vais pas rentrer dans les détails, l’histoire est bien Depuis pour acheter de ces concepts Et que l’humain lui-même se déshumanise Face aux aux de la peine entre les hommes On a tous en commun l’histoire d’Adam, d’Ève et la Ce a besoin de fonds pour gérer le matériel Et se passer des dons, Et matériel les besoin besoin fait de la peine De vos cheveux, vos visages et vos visages Mais honte de mes à répétition Moi, j’ai vu des enfants mourir mourir besoin j’ai vu besoin j’ai vu se vexent si c’est pour parler de ces concepts De vos Mais j’ai plus que des défauts si vous me regardez bien Vous aimeriez ma ma je le pour monde pour sourire a ce choses plus importantes que l’inspiration importantes égalisons de fonds de la différence entre les hommes On a tous en commun actuelle Quel gâchis à votre couleur D’ébène Mais j’ai plus que des défauts si vous dépendance dignité J’attends d’être exécuté, avait déjà fait demi-tour Y’a des personnes qui tendent qui oublie sa J’attends et aux aspects capitalistes J’ai deux, trois mots pour ce monde déchiré complexe pas le de parler Alors arrêtez de créer de la différence entre les les ? se besoin ? que se passer même pas pour parler de ces concepts se déshumanise sa vos pas le monde pour ce complexe Qu’on veut me faire porter, forcer forcer je n’ai honte mots pour ce monde déchiré Qui, obsédé par le pouvoir, les de mots Alors Et de créer de la différence entre les hommes On a marre des Bois Je commun pas par le pouvoir, en oublie sa dignité J’attends toujours ce ce changement deux, pour ce sans que ça sonne faux ? Faudrait qu’on apprenne apprenne Qu’une une n’est pas une référence Qu’on réalise qu’il y a des choses plus importantes que pouvoir le pouvoir Et qu’on passer des dons, sa dépendance actuelle Quel gâchis d’avoir Depuis toujours, d’argent honte pour fortifient l’injustice Si on la laisse s’accroître, que dirions-nous ? ? ? ? Faudrait qu’on apprenne la accepter Ce sont nos égos qui fortifient l’injustice Si fils j’ai vu des enfants mourir de malnutrition L’Afrique a besoin de fonds pour a tous sa dépendance actuelle Quel gâchis d’avoir une terre fertile mais pas d’argent honte d’argent les graines honte être guerriers pour ce monde que nous-mêmes on a détruit Qu’on n’a pas vais pas rentrer dans les détails, l’histoire est bien pourrie Depuis toujours, de l’injustice monde pour ce monde que nous-mêmes on a détruit Qu’on n’a pas respecté ces mots ce complexe Qu’on veut me faire porter, forcer le racisme avec Que je devrais mots avec de mes pour gérer le matériel Et se passer des dons, sa dépendance et pour en a marre des ponctuations Et il y a cette petite pas le il importantes à cultiver de la haine Alors égalisons le monde à la façon Robin pas dans ma actuelle qui me dit : arrête ! Quand même les mots se vexent pour monde pour ce complexe Qu’on veut me faire porter, forcer le racisme avec Que faire et, au le me peau fait, le racisme pour acheter les graines Et se ? Qui, politiques toujours ce changement dans ce faux discours Qui, avant d’être exécuté, avait déjà Qu’on faux sa est actuelle Quel gâchis d’avoir une terre fertile mais pas d’argent avec pour mots aux rois pour les transmettre aux rois Mais en attendant, aspects capitalistes deux, deux, trois la pomme nos différences Qu’une couleur, une croyance n’est pas une référence réalise est bien pourrie le racisme avec Que je devrais avoir honte de mes origines, Moi, vos visages c’est honte de mes Alors arrêtez de créer de la différence de la façon Robin des Bois Je volerai des mots aux esclaves pour les transmettre transmettre le ces on la laisse s’accroître, que dirions-nous à nos fils ? Qu’ils devront être guerriers guerriers me dit : Depuis ! Quand même les mots se vexent c’est pour que ça sonne faux ? Faudrait qu’on apprenne à accepter nos différences Qu’une couleur, une une une une terre une repartir à zéro ? Comment ferions-nous pour sourire sans de malnutrition L’Afrique a besoin de fonds pour gérer le matériel Et se passer des besoin besoin fait de la peine De vos cheveux, vos visages à votre couleur et votre couleur j’ai de lunettes de la différence entre les hommes On a tous en et le en en oublie sa dignité J’attends toujours ce changement dans ce faux discours Qui, pourrie une terre fertile et, au fait, je n’ai toujours, de rien Alors Moi, monde si c’est c’est pour mots que nous-mêmes on a écrits Comment oublier ces guerres et guerres je bien je arrête honte de l’injustice à répétition Moi, j’ai vu des enfants des enfants mourir mourir de de malnutrition on nous apprend à cultiver de malnutrition L’Afrique ? besoin pour gérer de la concepts Et que l’humain lui-même se déshumanise Face dépendance gâchis gâchis à mots que nous-mêmes on a écrits Comment oublier ces guerres à zéro j’ai que zéro à nos fils ? Qu’ils devront être guerriers dans ce monde Et de la à dirions-nous Moi, j’ai vu des enfants mourir de malnutrition L’Afrique a besoin de que des défauts si vous me regardez bien Vous aimeriez ma peau et,\n",
            "================================================================================\n"
          ]
        }
      ]
    },
    {
      "cell_type": "markdown",
      "source": [
        "Source : https://www.kdnuggets.com/2020/07/pytorch-lstm-text-generation-tutorial.html ,\n",
        "ChatGpt"
      ],
      "metadata": {
        "id": "ClkIjraagJw_"
      }
    },
    {
      "cell_type": "code",
      "source": [],
      "metadata": {
        "id": "fXYUhplKgOi5"
      },
      "execution_count": null,
      "outputs": []
    }
  ]
}