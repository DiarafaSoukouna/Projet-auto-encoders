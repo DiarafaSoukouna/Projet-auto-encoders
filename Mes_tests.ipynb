{
  "nbformat": 4,
  "nbformat_minor": 0,
  "metadata": {
    "colab": {
      "provenance": []
    },
    "kernelspec": {
      "name": "python3",
      "display_name": "Python 3"
    },
    "language_info": {
      "name": "python"
    }
  },
  "cells": [
    {
      "cell_type": "markdown",
      "source": [
        "# Partie II : Génération de texte avec des modèles “RNN”\n",
        "Dans cette deuxième partie, nous allons entraîner et valider un modèle de type RNN pour la génération de texte, tout en identifiant d’éventuelles limites (étudiées théoriquement pendant le cours)."
      ],
      "metadata": {
        "id": "LT5GuqFDusOi"
      }
    },
    {
      "cell_type": "code",
      "execution_count": 1,
      "metadata": {
        "id": "BKgrPu9UpMgZ"
      },
      "outputs": [],
      "source": [
        "#### Importation des bibliothèques\n",
        "from tensorflow.keras.preprocessing.text import Tokenizer\n",
        "import numpy as np\n",
        "import torch\n",
        "import torch.nn as nn\n",
        "from torch.nn.utils.rnn import pad_sequence\n",
        "from torch.utils.data import Dataset, DataLoader\n",
        "import torch.optim as optim\n",
        "from torch.utils.data import random_split\n",
        "from collections import Counter\n",
        "import matplotlib.pyplot as plt\n"
      ]
    },
    {
      "cell_type": "markdown",
      "source": [
        "#### 1. Afin de procéder à notre génération de texte nous allons tout d'abord trouver un texte orignal sur l'Afrique ecri par nous-mêmes et qui servira de données d’entrainement de notre modèle de génération de texte"
      ],
      "metadata": {
        "id": "ikHG2_FiuzrD"
      }
    },
    {
      "cell_type": "code",
      "source": [
        "corpus = \"\"\"\n",
        "Quand la haine devient plus forte que l’inspiration\n",
        "On trébuche sur le texte et on en a marre des ponctuations\n",
        "Et il y a cette petite voix dans ma tête qui me dit : arrête !\n",
        "Quand même les mots se vexent si c’est pour parler de ces concepts\n",
        "Et que l’humain lui-même se déshumanise\n",
        "Face aux ambitions politiques et aux aspects capitalistes\n",
        "\n",
        "J’ai deux, trois mots pour ce monde déchiré\n",
        "Qui, obsédé par le pouvoir, en oublie sa dignité\n",
        "J’attends toujours ce changement dans ce faux discours\n",
        "Qui, avant d’être exécuté, avait déjà fait demi-tour\n",
        "Y’a des personnes qui tendent la main, y’a des pays qui le font aussi\n",
        "Je vais pas rentrer dans les détails, l’histoire est bien pourrie\n",
        "Depuis toujours, de l’injustice à répétition\n",
        "Moi, j’ai vu des enfants mourir de malnutrition\n",
        "L’Afrique a besoin de fonds pour gérer le matériel\n",
        "Et se passer des dons, sa dépendance actuelle\n",
        "Quel gâchis d’avoir une terre fertile mais pas d’argent pour acheter les graines\n",
        "Et à force, on nous apprend à cultiver de la haine\n",
        "Alors égalisons le monde à la façon Robin des Bois\n",
        "Je volerai des mots aux esclaves pour les transmettre aux rois\n",
        "\n",
        "Mais en attendant, je me bats contre le monde pour ce complexe\n",
        "Qu’on veut me faire porter, forcer le racisme avec\n",
        "Que je devrais avoir honte de mes origines, enfant africain, ça fait de la peine\n",
        "De vos cheveux, vos visages à votre couleur\n",
        "D’ébène\n",
        "Mais j’ai plus que des défauts si vous me regardez bien\n",
        "Vous aimeriez ma peau et, au fait, je n’ai honte de rien\n",
        "Alors arrêtez de créer de la différence entre les hommes\n",
        "On a tous en commun l’histoire d’Adam, d’Ève et la pomme\n",
        "Ce sont nos égos qui fortifient l’injustice\n",
        "Si on la laisse s’accroître, que dirions-nous à nos fils ?\n",
        "Qu’ils devront être guerriers dans ce monde que nous-mêmes on a détruit\n",
        "Qu’on n’a pas respecté ces mots que nous-mêmes on a écrits\n",
        "Comment oublier ces guerres et repartir à zéro ?\n",
        "Comment ferions-nous pour sourire sans que ça sonne faux ?\n",
        "Faudrait qu’on apprenne à accepter nos différences\n",
        "Qu’une couleur, une croyance n’est pas une référence\n",
        "Qu’on réalise qu’il y a des choses plus importantes que le pouvoir\n",
        "Et qu’on n’a même pas besoin de lunettes pour y voir\n",
        "\n",
        "\"\"\""
      ],
      "metadata": {
        "id": "sD06cdKFpRnh"
      },
      "execution_count": 2,
      "outputs": []
    },
    {
      "cell_type": "markdown",
      "source": [
        "Nous allons maintenant passer au prétraitement de notre corpus en faisant la tokenisation puis en calculant la fréquence des mots, ensuite on va trier les mots dans l'ordre de fréquence plus elevé. Ceci nous aidera à savoir quels sont les mots les plus frequents et c'est dans cet ordre qu'on va vectoriser nos mots a l'aide de leurs indexes dans la liste créée"
      ],
      "metadata": {
        "id": "GwVt6WqQu4ic"
      }
    },
    {
      "cell_type": "code",
      "source": [
        "#### On va tokeniser notre corpus\n",
        "words = corpus.split()"
      ],
      "metadata": {
        "id": "1McQJjrUpT4t"
      },
      "execution_count": 3,
      "outputs": []
    },
    {
      "cell_type": "code",
      "source": [
        "#### On va compter la frequence de chaque mot pour en voir les mots les plus repetés\n",
        "word_counts = Counter(words)"
      ],
      "metadata": {
        "id": "vf-rr-GnpY7F"
      },
      "execution_count": 4,
      "outputs": []
    },
    {
      "cell_type": "code",
      "source": [
        "#### On va refaire notre vocabulaire en triant pas ordre de frequence des mots\n",
        "# Création du vocabulaire trié\n",
        "vocab = sorted(word_counts, key=word_counts.get, reverse=True)\n",
        "\n",
        "# Convertir en dictionnaire {mot: index}\n",
        "vocab = {word: idx for idx, word in enumerate(vocab)}\n",
        "\n",
        "# ✅ Ajouter un token \"<unk>\" pour les mots inconnus\n",
        "if \"<unk>\" not in vocab:\n",
        "    vocab[\"<unk>\"] = len(vocab)  # Ajoute \"<unk>\" avec un nouvel index\n",
        "\n",
        "# Créer l'index inverse {index: mot}\n",
        "index_to_word = {idx: word for word, idx in vocab.items()}"
      ],
      "metadata": {
        "id": "Xd-_kwuGpbQA"
      },
      "execution_count": 5,
      "outputs": []
    },
    {
      "cell_type": "code",
      "source": [
        "# Associer un index à chaque mot\n",
        "word_to_index = {word: i for i, word in enumerate(vocab)}\n",
        "index_to_word = {i: word for word, i in word_to_index.items()}"
      ],
      "metadata": {
        "id": "Ng0Y7HFppeGE"
      },
      "execution_count": 6,
      "outputs": []
    },
    {
      "cell_type": "code",
      "source": [
        "# Convertir le texte en liste d'indices\n",
        "indexed_text = [word_to_index[word] for word in words]"
      ],
      "metadata": {
        "id": "HmKVCP33ph7d"
      },
      "execution_count": 7,
      "outputs": []
    },
    {
      "cell_type": "code",
      "source": [
        "#### Creation de notre dataset avec une classe qui prend en heritage notre indexed_text qui contient nos mots indexé et trié dans un ordre et on calcule la longueur\n",
        "#### de la liste puis on retourne un tensor avec nos x et le y a la fin\n",
        "import torch.nn.functional as F\n",
        "\n",
        "class TextDataset(Dataset):\n",
        "    def __init__(self, indexed_text, sequence_length):\n",
        "        self.indexed_text = indexed_text\n",
        "        self.sequence_length = sequence_length\n",
        "\n",
        "    def __len__(self):\n",
        "        return max(0, len(self.indexed_text) - self.sequence_length)\n",
        "\n",
        "    def __getitem__(self, index):\n",
        "        X = torch.tensor(self.indexed_text[index:index + self.sequence_length])\n",
        "        y = torch.tensor(self.indexed_text[index + 1: index + self.sequence_length + 1])\n",
        "\n",
        "        # Appliquer le padding si la séquence est plus courte que `sequence_length`\n",
        "        if len(X) < self.sequence_length:\n",
        "            padding_length = self.sequence_length - len(X)\n",
        "            X = F.pad(X, (0, padding_length), value=0)\n",
        "            y = F.pad(y, (0, padding_length), value=0)\n",
        "\n",
        "        return X, y\n"
      ],
      "metadata": {
        "id": "wxKqgmZmpkeN"
      },
      "execution_count": 8,
      "outputs": []
    },
    {
      "cell_type": "markdown",
      "source": [
        "On va maintenant définir la longueur de nos séquences et définir notre dataset.\n",
        "Pour le dataset on va diviser nos données en données d'entraînement, de test et de validation afin de pouvoir évaluer la performance de nos modèles."
      ],
      "metadata": {
        "id": "1Rf9mmgExOIw"
      }
    },
    {
      "cell_type": "code",
      "source": [
        "sequence_length=15\n",
        "dataset = TextDataset(indexed_text, sequence_length)\n",
        "\n",
        "total_size = len(dataset)\n",
        "train_size = int(total_size * 0.8)\n",
        "val_size = int(total_size * 0.1)\n",
        "test_size = total_size - train_size - val_size\n",
        "\n",
        "train_data, val_data, test_data = random_split(dataset, [train_size, val_size, test_size])\n",
        "batch_size=32\n",
        "\n",
        "train_loader = DataLoader(train_data, batch_size=batch_size, shuffle=True)\n",
        "val_loader = DataLoader(val_data, batch_size=batch_size, shuffle=False)\n",
        "test_loader = DataLoader(test_data, batch_size=batch_size, shuffle=False)"
      ],
      "metadata": {
        "id": "ql1kJ7VExLSN"
      },
      "execution_count": 9,
      "outputs": []
    },
    {
      "cell_type": "code",
      "source": [
        "print(f\"Train: {len(train_data)}, Validation: {len(val_data)}, Test: {len(test_data)}\")"
      ],
      "metadata": {
        "colab": {
          "base_uri": "https://localhost:8080/"
        },
        "id": "s1zjeeQdcLbx",
        "outputId": "d7442a1d-413d-458a-8735-b8bec922452c"
      },
      "execution_count": 10,
      "outputs": [
        {
          "output_type": "stream",
          "name": "stdout",
          "text": [
            "Train: 295, Validation: 36, Test: 38\n"
          ]
        }
      ]
    },
    {
      "cell_type": "markdown",
      "source": [
        "Maintenant on a fini nos prétraitements on peut maintenant passer à la prochaine étape nos données se trouvent dans train_loader, val_loader et test_loader."
      ],
      "metadata": {
        "id": "LD2COxUxb3k4"
      }
    },
    {
      "cell_type": "markdown",
      "source": [
        "#### 2. On va mettre en place à l’aide de la bibliothèque Python PyTorch, un modèle LSTM qui sera entrainé sur les données précédemment préparées"
      ],
      "metadata": {
        "id": "6wMt93-lcM-a"
      }
    },
    {
      "cell_type": "code",
      "source": [
        "class LSTMTextGenerator(nn.Module):\n",
        "    def __init__(self, vocab_size, embed_size, hidden_size, num_layers):\n",
        "        super(LSTMTextGenerator, self).__init__()\n",
        "        self.embedding = nn.Embedding(vocab_size, embed_size)\n",
        "        self.lstm = nn.LSTM(embed_size, hidden_size, num_layers, batch_first=True)\n",
        "        self.fc = nn.Linear(hidden_size, vocab_size)\n",
        "\n",
        "    def forward(self, x, hidden):\n",
        "        x = self.embedding(x)\n",
        "        out, hidden = self.lstm(x, hidden)\n",
        "        out = self.fc(out)\n",
        "        return out, hidden\n"
      ],
      "metadata": {
        "id": "ww8QjczJpsPC"
      },
      "execution_count": 11,
      "outputs": []
    },
    {
      "cell_type": "code",
      "source": [
        "#### On va definir nos hyperparamètres\n",
        "vocab_size = len(vocab)\n",
        "embed_size = 128\n",
        "hidden_size = 128\n",
        "num_layers = 1\n",
        "num_epochs = 50\n",
        "learning_rate = 0.001\n",
        "criterion = nn.CrossEntropyLoss()\n"
      ],
      "metadata": {
        "id": "oxDcPorWY_9p"
      },
      "execution_count": 17,
      "outputs": []
    },
    {
      "cell_type": "code",
      "source": [
        "model_lstm = LSTMTextGenerator(vocab_size, embed_size, hidden_size, num_layers)\n",
        "optimizer_lstm = optim.Adam(model_lstm.parameters(), lr=learning_rate)"
      ],
      "metadata": {
        "id": "MdTSTP88ZFZ2"
      },
      "execution_count": 13,
      "outputs": []
    },
    {
      "cell_type": "markdown",
      "source": [
        "#### 3. On va mettre en place à l’aide de la bibliothèque Python PyTorch, un modèle BiLSTM qui sera entrainé sur les données précédemment préparées"
      ],
      "metadata": {
        "id": "vLWFHBEcjun-"
      }
    },
    {
      "cell_type": "code",
      "source": [
        "class BiLSTMTextGenerator(nn.Module):\n",
        "    def __init__(self, vocab_size, embed_size, hidden_size, num_layers):\n",
        "        super(BiLSTMTextGenerator, self).__init__()\n",
        "        self.embedding = nn.Embedding(vocab_size, embed_size)\n",
        "        self.bilstm = nn.LSTM(embed_size, hidden_size, num_layers, batch_first=True, bidirectional=True)\n",
        "        self.fc = nn.Linear(hidden_size * 2, vocab_size)\n",
        "\n",
        "    def forward(self, x, hidden):\n",
        "        x = self.embedding(x)\n",
        "        out, hidden = self.bilstm(x, hidden)\n",
        "        out = self.fc(out)\n",
        "        return out, hidden\n"
      ],
      "metadata": {
        "id": "Ze7w4dZkjlfy"
      },
      "execution_count": 14,
      "outputs": []
    },
    {
      "cell_type": "code",
      "source": [
        "model_bilstm = BiLSTMTextGenerator(vocab_size, embed_size, hidden_size, num_layers)\n",
        "optimizer_bilstm = optim.Adam(model_bilstm.parameters(), lr=learning_rate)"
      ],
      "metadata": {
        "id": "1Su0YmjmZhzY"
      },
      "execution_count": 15,
      "outputs": []
    },
    {
      "cell_type": "markdown",
      "source": [
        "#### 4. On va passer maintenant à l'entraînement de nos modèles précedemment construit"
      ],
      "metadata": {
        "id": "AO3eEZ7Gkhcw"
      }
    },
    {
      "cell_type": "markdown",
      "source": [
        "Pour que ça paraisse le plus fluide possible on va traiter par fonctions.\n",
        "De ce fait, on va définir notre fonction train qui va prendre tout ce qui est nécessaire en paramètres et va nous faire l'entrainement directement."
      ],
      "metadata": {
        "id": "6ib9XtqJXalH"
      }
    },
    {
      "cell_type": "code",
      "source": [
        "def train(model, criterion, optimizer, train_loader, val_loader, test_loader, num_epochs, vocab_size, device=\"cpu\" ):\n",
        "    model.to(device)\n",
        "    train_losses = []\n",
        "    val_losses = []\n",
        "\n",
        "    for epoch in range(num_epochs):\n",
        "        model.train()\n",
        "        total_loss = 0\n",
        "\n",
        "        for X_batch, y_batch in train_loader:\n",
        "            X_batch, y_batch = X_batch.to(device), y_batch.to(device)\n",
        "            optimizer.zero_grad()\n",
        "\n",
        "            # Réinitialiser hidden à chaque batch\n",
        "            hidden = None\n",
        "\n",
        "            # Forward pass\n",
        "            output, hidden = model(X_batch, hidden)\n",
        "            loss = criterion(output.view(-1, vocab_size), y_batch.view(-1))\n",
        "            total_loss += loss.item()\n",
        "\n",
        "            # Backward pass\n",
        "            loss.backward()\n",
        "            optimizer.step()\n",
        "\n",
        "        # Calcul de la perte moyenne sur l'ensemble d'entraînement\n",
        "        avg_train_loss = total_loss / len(train_loader)\n",
        "        train_losses.append(avg_train_loss)\n",
        "\n",
        "        # Évaluation sur les données de validation\n",
        "        avg_val_loss = evaluate(model, criterion, val_loader, vocab_size, device)\n",
        "        val_losses.append(avg_val_loss)\n",
        "\n",
        "        print(f\"Epoch [{epoch+1}/{num_epochs}] - Train Loss: {avg_train_loss:.4f} | Val Loss: {avg_val_loss:.4f}\")\n",
        "\n",
        "    # Test final après l'entraînement\n",
        "    test_loss = evaluate(model, criterion, test_loader, vocab_size, device)\n",
        "    print(f\"Final Test Loss: {test_loss:.4f}\")\n",
        "    return train_losses, val_losses\n",
        "\n",
        "def evaluate(model, criterion, dataloader, vocab_size, device=\"cpu\"):\n",
        "    model.eval()\n",
        "    total_loss = 0\n",
        "\n",
        "    with torch.no_grad():\n",
        "        for X_batch, y_batch in dataloader:\n",
        "            X_batch, y_batch = X_batch.to(device), y_batch.to(device)\n",
        "\n",
        "            # Réinitialiser hidden à chaque batch\n",
        "            hidden = None\n",
        "\n",
        "            # Forward pass\n",
        "            output, hidden = model(X_batch, hidden)\n",
        "            loss = criterion(output.view(-1, vocab_size), y_batch.view(-1))\n",
        "            total_loss += loss.item()\n",
        "\n",
        "    return total_loss / len(dataloader)"
      ],
      "metadata": {
        "id": "fn_2f6N9TjdT"
      },
      "execution_count": 16,
      "outputs": []
    },
    {
      "cell_type": "markdown",
      "source": [
        "Entraînement sur le corpus avec le modèle Lstm"
      ],
      "metadata": {
        "id": "PjIoZkJeZ1ds"
      }
    },
    {
      "cell_type": "code",
      "source": [
        "train_losses_lstm, val_losses_lstm = train(model_lstm, criterion, optimizer_lstm, train_loader, val_loader, test_loader, num_epochs, vocab_size, device=\"cpu\")"
      ],
      "metadata": {
        "colab": {
          "base_uri": "https://localhost:8080/"
        },
        "id": "IN1liUSKWTS1",
        "outputId": "ed15d265-eeba-4ac8-f855-58cb7ed4415c"
      },
      "execution_count": 18,
      "outputs": [
        {
          "output_type": "stream",
          "name": "stdout",
          "text": [
            "Epoch [1/50] - Train Loss: 5.3837 | Val Loss: 5.2591\n",
            "Epoch [2/50] - Train Loss: 5.1410 | Val Loss: 5.0024\n",
            "Epoch [3/50] - Train Loss: 4.8123 | Val Loss: 4.5820\n",
            "Epoch [4/50] - Train Loss: 4.3046 | Val Loss: 4.0445\n",
            "Epoch [5/50] - Train Loss: 3.7262 | Val Loss: 3.4249\n",
            "Epoch [6/50] - Train Loss: 3.0620 | Val Loss: 2.8195\n",
            "Epoch [7/50] - Train Loss: 2.4612 | Val Loss: 2.2802\n",
            "Epoch [8/50] - Train Loss: 1.9134 | Val Loss: 1.8089\n",
            "Epoch [9/50] - Train Loss: 1.4827 | Val Loss: 1.4082\n",
            "Epoch [10/50] - Train Loss: 1.1372 | Val Loss: 1.0900\n",
            "Epoch [11/50] - Train Loss: 0.8810 | Val Loss: 0.8650\n",
            "Epoch [12/50] - Train Loss: 0.7107 | Val Loss: 0.7086\n",
            "Epoch [13/50] - Train Loss: 0.5891 | Val Loss: 0.5988\n",
            "Epoch [14/50] - Train Loss: 0.4994 | Val Loss: 0.5216\n",
            "Epoch [15/50] - Train Loss: 0.4367 | Val Loss: 0.4611\n",
            "Epoch [16/50] - Train Loss: 0.3810 | Val Loss: 0.4155\n",
            "Epoch [17/50] - Train Loss: 0.3452 | Val Loss: 0.3852\n",
            "Epoch [18/50] - Train Loss: 0.3088 | Val Loss: 0.3616\n",
            "Epoch [19/50] - Train Loss: 0.2831 | Val Loss: 0.3396\n",
            "Epoch [20/50] - Train Loss: 0.2615 | Val Loss: 0.3204\n",
            "Epoch [21/50] - Train Loss: 0.2391 | Val Loss: 0.3058\n",
            "Epoch [22/50] - Train Loss: 0.2261 | Val Loss: 0.2931\n",
            "Epoch [23/50] - Train Loss: 0.2131 | Val Loss: 0.2833\n",
            "Epoch [24/50] - Train Loss: 0.1930 | Val Loss: 0.2747\n",
            "Epoch [25/50] - Train Loss: 0.1817 | Val Loss: 0.2660\n",
            "Epoch [26/50] - Train Loss: 0.1744 | Val Loss: 0.2585\n",
            "Epoch [27/50] - Train Loss: 0.1646 | Val Loss: 0.2525\n",
            "Epoch [28/50] - Train Loss: 0.1546 | Val Loss: 0.2472\n",
            "Epoch [29/50] - Train Loss: 0.1464 | Val Loss: 0.2431\n",
            "Epoch [30/50] - Train Loss: 0.1376 | Val Loss: 0.2388\n",
            "Epoch [31/50] - Train Loss: 0.1346 | Val Loss: 0.2351\n",
            "Epoch [32/50] - Train Loss: 0.1271 | Val Loss: 0.2324\n",
            "Epoch [33/50] - Train Loss: 0.1207 | Val Loss: 0.2284\n",
            "Epoch [34/50] - Train Loss: 0.1184 | Val Loss: 0.2270\n",
            "Epoch [35/50] - Train Loss: 0.1110 | Val Loss: 0.2237\n",
            "Epoch [36/50] - Train Loss: 0.1091 | Val Loss: 0.2216\n",
            "Epoch [37/50] - Train Loss: 0.1063 | Val Loss: 0.2184\n",
            "Epoch [38/50] - Train Loss: 0.0987 | Val Loss: 0.2155\n",
            "Epoch [39/50] - Train Loss: 0.0981 | Val Loss: 0.2160\n",
            "Epoch [40/50] - Train Loss: 0.0940 | Val Loss: 0.2149\n",
            "Epoch [41/50] - Train Loss: 0.0937 | Val Loss: 0.2127\n",
            "Epoch [42/50] - Train Loss: 0.0892 | Val Loss: 0.2109\n",
            "Epoch [43/50] - Train Loss: 0.0877 | Val Loss: 0.2093\n",
            "Epoch [44/50] - Train Loss: 0.0844 | Val Loss: 0.2088\n",
            "Epoch [45/50] - Train Loss: 0.0824 | Val Loss: 0.2086\n",
            "Epoch [46/50] - Train Loss: 0.0781 | Val Loss: 0.2083\n",
            "Epoch [47/50] - Train Loss: 0.0786 | Val Loss: 0.2087\n",
            "Epoch [48/50] - Train Loss: 0.0765 | Val Loss: 0.2080\n",
            "Epoch [49/50] - Train Loss: 0.0757 | Val Loss: 0.2070\n",
            "Epoch [50/50] - Train Loss: 0.0756 | Val Loss: 0.2061\n",
            "Final Test Loss: 0.2155\n"
          ]
        }
      ]
    },
    {
      "cell_type": "markdown",
      "source": [
        "Entraînement sur le corpus avec le modele biLstm"
      ],
      "metadata": {
        "id": "Dd5gDhug9WeX"
      }
    },
    {
      "cell_type": "code",
      "source": [
        "train_losses_bilstm, val_losses_bilstm = train(model_bilstm, criterion, optimizer_bilstm, train_loader, val_loader, test_loader, num_epochs, vocab_size, device=\"cpu\")"
      ],
      "metadata": {
        "colab": {
          "base_uri": "https://localhost:8080/"
        },
        "id": "QVqGWwlbaR6_",
        "outputId": "b74d6353-1c8a-4b54-b487-8d621d71acf7"
      },
      "execution_count": 19,
      "outputs": [
        {
          "output_type": "stream",
          "name": "stdout",
          "text": [
            "Epoch [1/50] - Train Loss: 5.3246 | Val Loss: 5.1289\n",
            "Epoch [2/50] - Train Loss: 4.9149 | Val Loss: 4.6620\n",
            "Epoch [3/50] - Train Loss: 4.3083 | Val Loss: 3.8852\n",
            "Epoch [4/50] - Train Loss: 3.4174 | Val Loss: 2.9189\n",
            "Epoch [5/50] - Train Loss: 2.4209 | Val Loss: 1.9631\n",
            "Epoch [6/50] - Train Loss: 1.4584 | Val Loss: 1.1823\n",
            "Epoch [7/50] - Train Loss: 0.8238 | Val Loss: 0.6976\n",
            "Epoch [8/50] - Train Loss: 0.4875 | Val Loss: 0.4352\n",
            "Epoch [9/50] - Train Loss: 0.3161 | Val Loss: 0.3018\n",
            "Epoch [10/50] - Train Loss: 0.2226 | Val Loss: 0.2294\n",
            "Epoch [11/50] - Train Loss: 0.1696 | Val Loss: 0.1855\n",
            "Epoch [12/50] - Train Loss: 0.1385 | Val Loss: 0.1570\n",
            "Epoch [13/50] - Train Loss: 0.1145 | Val Loss: 0.1366\n",
            "Epoch [14/50] - Train Loss: 0.0959 | Val Loss: 0.1207\n",
            "Epoch [15/50] - Train Loss: 0.0838 | Val Loss: 0.1086\n",
            "Epoch [16/50] - Train Loss: 0.0731 | Val Loss: 0.0983\n",
            "Epoch [17/50] - Train Loss: 0.0646 | Val Loss: 0.0904\n",
            "Epoch [18/50] - Train Loss: 0.0581 | Val Loss: 0.0829\n",
            "Epoch [19/50] - Train Loss: 0.0519 | Val Loss: 0.0777\n",
            "Epoch [20/50] - Train Loss: 0.0470 | Val Loss: 0.0731\n",
            "Epoch [21/50] - Train Loss: 0.0425 | Val Loss: 0.0685\n",
            "Epoch [22/50] - Train Loss: 0.0387 | Val Loss: 0.0643\n",
            "Epoch [23/50] - Train Loss: 0.0358 | Val Loss: 0.0611\n",
            "Epoch [24/50] - Train Loss: 0.0328 | Val Loss: 0.0580\n",
            "Epoch [25/50] - Train Loss: 0.0304 | Val Loss: 0.0544\n",
            "Epoch [26/50] - Train Loss: 0.0289 | Val Loss: 0.0519\n",
            "Epoch [27/50] - Train Loss: 0.0264 | Val Loss: 0.0498\n",
            "Epoch [28/50] - Train Loss: 0.0247 | Val Loss: 0.0481\n",
            "Epoch [29/50] - Train Loss: 0.0231 | Val Loss: 0.0463\n",
            "Epoch [30/50] - Train Loss: 0.0217 | Val Loss: 0.0448\n",
            "Epoch [31/50] - Train Loss: 0.0208 | Val Loss: 0.0434\n",
            "Epoch [32/50] - Train Loss: 0.0194 | Val Loss: 0.0420\n",
            "Epoch [33/50] - Train Loss: 0.0185 | Val Loss: 0.0407\n",
            "Epoch [34/50] - Train Loss: 0.0177 | Val Loss: 0.0396\n",
            "Epoch [35/50] - Train Loss: 0.0163 | Val Loss: 0.0382\n",
            "Epoch [36/50] - Train Loss: 0.0157 | Val Loss: 0.0370\n",
            "Epoch [37/50] - Train Loss: 0.0149 | Val Loss: 0.0359\n",
            "Epoch [38/50] - Train Loss: 0.0142 | Val Loss: 0.0350\n",
            "Epoch [39/50] - Train Loss: 0.0135 | Val Loss: 0.0342\n",
            "Epoch [40/50] - Train Loss: 0.0128 | Val Loss: 0.0334\n",
            "Epoch [41/50] - Train Loss: 0.0124 | Val Loss: 0.0325\n",
            "Epoch [42/50] - Train Loss: 0.0119 | Val Loss: 0.0317\n",
            "Epoch [43/50] - Train Loss: 0.0115 | Val Loss: 0.0310\n",
            "Epoch [44/50] - Train Loss: 0.0110 | Val Loss: 0.0302\n",
            "Epoch [45/50] - Train Loss: 0.0105 | Val Loss: 0.0295\n",
            "Epoch [46/50] - Train Loss: 0.0101 | Val Loss: 0.0292\n",
            "Epoch [47/50] - Train Loss: 0.0096 | Val Loss: 0.0287\n",
            "Epoch [48/50] - Train Loss: 0.0095 | Val Loss: 0.0281\n",
            "Epoch [49/50] - Train Loss: 0.0091 | Val Loss: 0.0278\n",
            "Epoch [50/50] - Train Loss: 0.0087 | Val Loss: 0.0272\n",
            "Final Test Loss: 0.0288\n"
          ]
        }
      ]
    },
    {
      "cell_type": "markdown",
      "source": [
        "Afin de pouvoir visualiser plus clairement la différence entre les pertes dans dans les données d'entrainement et les pertes dans les données de validation on va mettre en place un graphique capable d'illustrer tout ça"
      ],
      "metadata": {
        "id": "OoERLJ-B9ZiH"
      }
    },
    {
      "cell_type": "code",
      "source": [
        "def plot_loss(train_losses, val_losses, model_name):\n",
        "    plt.plot(train_losses, label='Train Loss for '+ model_name)\n",
        "    plt.plot(val_losses, label='Validation Loss for '+ model_name)\n",
        "    plt.xlabel('Epoch')\n",
        "    plt.ylabel('Loss')\n",
        "    plt.title('Training and Validation Loss for '+ model_name)\n",
        "    plt.legend()\n",
        "    plt.show()"
      ],
      "metadata": {
        "id": "d7FNEQDj_yw9"
      },
      "execution_count": 20,
      "outputs": []
    },
    {
      "cell_type": "code",
      "source": [
        "plot_loss(train_losses_lstm, val_losses_lstm, 'LSTM')"
      ],
      "metadata": {
        "colab": {
          "base_uri": "https://localhost:8080/",
          "height": 472
        },
        "id": "l1GUr9E-AHmD",
        "outputId": "23de31ec-c3ea-4a20-8991-f5203ea1e44c"
      },
      "execution_count": 21,
      "outputs": [
        {
          "output_type": "display_data",
          "data": {
            "text/plain": [
              "<Figure size 640x480 with 1 Axes>"
            ],
            "image/png": "[encoded data removed]"
          },
          "metadata": {}
        }
      ]
    },
    {
      "cell_type": "code",
      "source": [
        "plot_loss(train_losses_bilstm, val_losses_bilstm, 'BiLSTM')"
      ],
      "metadata": {
        "colab": {
          "base_uri": "https://localhost:8080/",
          "height": 472
        },
        "id": "dnt7zC2LPyl1",
        "outputId": "c8e87b70-730e-49ab-8a01-58fa420e77be"
      },
      "execution_count": 22,
      "outputs": [
        {
          "output_type": "display_data",
          "data": {
            "text/plain": [
              "<Figure size 640x480 with 1 Axes>"
            ],
            "image/png": "[encoded data removed]"
          },
          "metadata": {}
        }
      ]
    },
    {
      "cell_type": "markdown",
      "source": [
        "#### 5. On va maintenant utiliser nos modèles entrainés pour générer la suite de trois diﬀérentes phrases (pour chaque modèle) qu'on va initier avec seulement deux ou trois mots."
      ],
      "metadata": {
        "id": "bk7nNnUs-W_A"
      }
    },
    {
      "cell_type": "markdown",
      "source": [
        "Pour ce faire nous allons maintenant définir une fonction de génération de texte qui va prendre en paramètres nos débuts de phrases et la longueur des phrases qu'on souhaite avoir puis va nous générer la suite par rapport aux mots inités."
      ],
      "metadata": {
        "id": "vie3hypU-wVc"
      }
    },
    {
      "cell_type": "code",
      "source": [
        "def generate_text(model, start_text, length=50, sequence_length=10):\n",
        "\n",
        "    model.eval()\n",
        "    generated_texts = []\n",
        "\n",
        "    for start in start_text:\n",
        "        text = start.split()\n",
        "        hidden = None\n",
        "\n",
        "        with torch.no_grad():\n",
        "            for _ in range(length):\n",
        "                input_tensor = torch.tensor([[word_to_index.get(word, word_to_index[\"<unk>\"]) for word in text[-sequence_length:]]])\n",
        "                output, hidden = model(input_tensor, hidden)\n",
        "\n",
        "                predicted_index = torch.argmax(output[0, -1, :]).item()\n",
        "                predicted_word = index_to_word[predicted_index]\n",
        "                text.append(predicted_word)\n",
        "\n",
        "        # Ajouter le texte généré à la liste\n",
        "        generated_texts.append(\" \".join(text))\n",
        "\n",
        "    return generated_texts"
      ],
      "metadata": {
        "id": "lwfqnJfLqesO"
      },
      "execution_count": 23,
      "outputs": []
    },
    {
      "cell_type": "markdown",
      "source": [
        "Nous allons maintenant appeler cette fonction de génération sur le modèle lstm puis sur le modèle bilstm en donnant à chaque fois nos trois debuts de phrases pour effectuer la génération."
      ],
      "metadata": {
        "id": "rPu36x7QD1JR"
      }
    },
    {
      "cell_type": "code",
      "source": [
        "generated_text_lstm = generate_text(model_lstm, [\"Le pouvoir\", \"L'afrique est\", \"Depuis toujours\"], length=50)\n",
        "generated_text_lstm"
      ],
      "metadata": {
        "id": "ed1uBa_8rYAg",
        "colab": {
          "base_uri": "https://localhost:8080/"
        },
        "outputId": "a65c68ad-017b-4ede-fdea-6831fcd2154c"
      },
      "execution_count": 24,
      "outputs": [
        {
          "output_type": "execute_result",
          "data": {
            "text/plain": [
              "['Le pouvoir Et il y a cette petite voix dans ma tête qui me dit : arrête ! Quand même les mots se vexent si c’est pour parler de ces concepts Et que l’humain lui-même se déshumanise Face aux ambitions politiques et aux aspects capitalistes J’ai deux, trois mots pour ce monde',\n",
              " \"L'afrique est bien pourrie Depuis toujours, de l’injustice à répétition Moi, j’ai vu des enfants mourir de malnutrition L’Afrique a besoin de fonds pour gérer le matériel Et se passer des dons, sa dépendance actuelle Quel gâchis d’avoir une terre fertile mais pas d’argent pour acheter les graines Et à force, on\",\n",
              " 'Depuis toujours ce monde que nous-mêmes on a détruit Qu’on n’a pas respecté ces mots que nous-mêmes on a écrits Comment oublier ces guerres et repartir à zéro ? Comment ferions-nous pour sourire sans que ça sonne faux ? Faudrait qu’on apprenne à accepter nos différences Qu’une couleur, une croyance n’est pas']"
            ]
          },
          "metadata": {},
          "execution_count": 24
        }
      ]
    },
    {
      "cell_type": "code",
      "source": [
        "generated_text_bilstm = generate_text(model_bilstm, [\"Le pouvoir\", \"L'afrique est\", \"Depuis toujours\"], length=50)\n",
        "generated_text_bilstm"
      ],
      "metadata": {
        "colab": {
          "base_uri": "https://localhost:8080/"
        },
        "id": "WymQhlAHbSSS",
        "outputId": "e010939a-19b4-4329-acee-b668ffcdaf65"
      },
      "execution_count": 25,
      "outputs": [
        {
          "output_type": "execute_result",
          "data": {
            "text/plain": [
              "['Le pouvoir Et qu’on n’a même pas besoin de lunettes pour y voir Et qu’on n’a même pas besoin de lunettes pour y voir Et qu’on n’a même pas besoin de lunettes pour y voir Et qu’on n’a même pas besoin de lunettes pour y voir Et qu’on n’a même pas besoin',\n",
              " \"L'afrique est bien pourrie Depuis toujours, de l’injustice à répétition Moi, j’ai vu des enfants mourir de malnutrition L’Afrique a besoin de fonds pour gérer le matériel Et se passer des dons, sa dépendance actuelle Quel gâchis d’avoir une terre fertile mais pas d’argent pour acheter les graines Et à force, on\",\n",
              " 'Depuis toujours ce changement dans ce faux discours Qui, avant d’être exécuté, avait déjà fait demi-tour Y’a des personnes qui tendent la main, y’a des pays qui le font aussi Je vais pas rentrer dans des pays qui le font aussi Je vais pas rentrer dans des pays qui le font aussi']"
            ]
          },
          "metadata": {},
          "execution_count": 25
        }
      ]
    },
    {
      "cell_type": "markdown",
      "source": [
        "#### 6. Sur la base de ces résultats d’entrainement et d’inférence nous remarquons que le modèle Bilstm a plus de performance que le modèle Lstm car par rapport aux résultats d'entrainements on voit les pertes flagrantes du modèle lstm par rapport au modèle bisltm et avec l'inférence également. Cette situation pouvait être prévisible car en théorie le modèle bilstm est connu pour avoir plus de performance que le modèle lstm car il effectue un lstm double et parcourt le texte deux fois dans les deux sens donc c'est le modele bilstm qui l'emporte."
      ],
      "metadata": {
        "id": "DACNY283EzvN"
      }
    },
    {
      "cell_type": "markdown",
      "source": [
        "#### 7. Selon nous, les limites de la solution mise en place en terme de qualité des données, des modèles et de l'architecture choisie :\n",
        "- **Qualité des données** :\n",
        "Le corpus présente des limites comme l'absence de ponctuation et des phrases longues, ce qui peut nuire à la qualité du texte généré. Une meilleure structuration des données aurait amélioré les résultats.\n",
        "- **Modèle (LSTM/GRU vs BiLSTM/BiGRU vs Alternatives)** :\n",
        "LSTM : Efficace, mais lourd et nécessite de nombreux paramètres.\n",
        "GRU : Plus léger que l'LSTM, avec des performances similaires, mais plus rapide.\n",
        "BiLSTM/BiGRU : Améliore la compréhension du contexte en traversant la séquence dans les deux sens, mais consomme plus de ressources.\n",
        "Alternatives : Des modèles comme Transformers (BERT, GPT) peuvent offrir de meilleures performances, surtout pour des tâches complexes.\n",
        "- **Architecture choisie** :\n",
        "L'architecture avec 128 neurones et 2 couches est adaptée au corpus actuel, mais pour des données plus complexes, il faudrait peut-être plus de couches et de neurones.\n",
        "CrossEntropyLoss est bien adaptée pour la classification multiclasses, mais d'autres fonctions de perte comme CTC Loss pourraient être explorées pour des tâches séquentielles.\n",
        "- **Ressources et calcul** :\n",
        "Les modèles BiLSTM et BiGRU augmentent les besoins en ressources, ce qui peut ralentir l'entraînement et poser problème avec des jeux de données volumineux. Des architectures plus légères ou des modèles comme les Transformers pourraient être plus efficaces."
      ],
      "metadata": {
        "id": "VcgLR_1AJjus"
      }
    },
    {
      "cell_type": "markdown",
      "source": [
        "#### 8. Une solution alternative à la majeure partie de ces limitations\n",
        "Une solution alternative pour surmonter la majeure partie de ces limitations des modèles LSTM, GRU, BiLSTM et BiGRU est l’utilisation des Transformers.\n",
        "\n",
        "Les modèles Transformers comme BERT ou GPT sont plus efficaces pour traiter des séquences de texte complexes. Contrairement aux RNN (LSTM/GRU), les Transformers utilisent des mécanismes d'attention qui leur permettent de traiter des relations à long terme sans dépendre de la structure séquentielle, ce qui améliore considérablement la vitesse d'entraînement et la qualité des résultats, tout en étant plus performants sur des jeux de données volumineux.\n",
        "\n",
        "Les Transformers sont aussi parallélisables, ce qui accélère l'entraînement par rapport aux RNN qui doivent traiter les données de manière séquentielle. Ils peuvent également traiter plus efficacement des contextes longs et capturer des dépendances globales dans les données."
      ],
      "metadata": {
        "id": "SMP6HXNRVMw8"
      }
    },
    {
      "cell_type": "markdown",
      "source": [
        "# Partie III: Synthèse de texte à l’aide d’unauto-encoder“RNN”"
      ],
      "metadata": {
        "id": "J-fgfrM8VUDA"
      }
    },
    {
      "cell_type": "markdown",
      "source": [
        "Nous allons utiliser un **auto-encodeur** pour la synthèse de texte. Plus précisément, nous allons appliquer cet auto-encodeur sur un modèle **BiLSTM**. Pour ce faire, nous commencerons par diviser notre corpus en **données d'entraînement** et **données de test**. Cette approche nous permettra d'exploiter la capacité du modèle à encoder et décoder des séquences de texte de manière plus efficace, tout en améliorant la qualité de la synthèse."
      ],
      "metadata": {
        "id": "RrVQneSjVhkS"
      }
    },
    {
      "cell_type": "code",
      "source": [
        "#### Separation de notre corpus\n",
        "train_size = int(0.8 * len(dataset))\n",
        "test_size = len(dataset) - train_size\n",
        "train_dataset, test_dataset = random_split(dataset, [train_size, test_size])\n"
      ],
      "metadata": {
        "id": "ciiyCpTMTLpr"
      },
      "execution_count": 26,
      "outputs": []
    },
    {
      "cell_type": "code",
      "source": [
        "batch_size = 2\n",
        "train_loader = DataLoader(train_dataset, batch_size=batch_size, shuffle=True)\n",
        "test_loader = DataLoader(test_dataset, batch_size=batch_size, shuffle=False)"
      ],
      "metadata": {
        "id": "Q4fmkzhtYwnO"
      },
      "execution_count": 27,
      "outputs": []
    },
    {
      "cell_type": "code",
      "source": [
        "class LSTMAutoencoder(nn.Module):\n",
        "    def __init__(self, vocab_size, embed_size, hidden_size, num_layers, bidirectional=True):\n",
        "        super(LSTMAutoencoder, self).__init__()\n",
        "        self.embedding = nn.Embedding(vocab_size, embed_size)\n",
        "\n",
        "        # Encoder bidirectionnel\n",
        "        self.encoder_lstm = nn.LSTM(\n",
        "            embed_size,\n",
        "            hidden_size,\n",
        "            num_layers,\n",
        "            batch_first=True,\n",
        "            bidirectional=bidirectional\n",
        "        )\n",
        "\n",
        "        # Decoder unidirectionnel\n",
        "        self.decoder_lstm = nn.LSTM(\n",
        "            hidden_size * (2 if bidirectional else 1),\n",
        "            hidden_size,\n",
        "            num_layers,\n",
        "            batch_first=True\n",
        "        )\n",
        "\n",
        "        self.fc = nn.Linear(hidden_size, vocab_size)\n",
        "\n",
        "    def forward(self, x):\n",
        "        embedded = self.embedding(x)\n",
        "        encoder_out, (h, c) = self.encoder_lstm(embedded)\n",
        "\n",
        "        if self.encoder_lstm.bidirectional:\n",
        "            # Réorganisation des états cachés (couches × directions → couches × batch × hidden_size)\n",
        "            h = h.view(self.encoder_lstm.num_layers, 2, -1, self.encoder_lstm.hidden_size)\n",
        "            h = h.mean(dim=1)\n",
        "\n",
        "            c = c.view(self.encoder_lstm.num_layers, 2, -1, self.encoder_lstm.hidden_size)\n",
        "            c = c.mean(dim=1)\n",
        "\n",
        "        decoder_out, _ = self.decoder_lstm(encoder_out, (h, c))\n",
        "        output = self.fc(decoder_out)\n",
        "\n",
        "        return output.permute(0, 2, 1)\n",
        ""
      ],
      "metadata": {
        "id": "EXlvpX1iY11m"
      },
      "execution_count": 28,
      "outputs": []
    },
    {
      "cell_type": "code",
      "source": [
        "embed_size = 256\n",
        "hidden_size = 256\n",
        "num_layers = 2\n",
        "num_epochs = 50\n",
        "learning_rate = 0.002\n",
        "bidirectional = True"
      ],
      "metadata": {
        "id": "hUsUPW3pY_7a"
      },
      "execution_count": 29,
      "outputs": []
    },
    {
      "cell_type": "code",
      "source": [
        "model = LSTMAutoencoder(vocab_size, embed_size, hidden_size, num_layers, bidirectional)\n",
        "criterion = nn.CrossEntropyLoss()\n",
        "optimizer = optim.Adam(model.parameters(), lr=learning_rate)"
      ],
      "metadata": {
        "id": "6x4tiwQgZDWF"
      },
      "execution_count": 30,
      "outputs": []
    },
    {
      "cell_type": "code",
      "source": [
        "for epoch in range(num_epochs):\n",
        "    model.train()\n",
        "    total_loss = 0\n",
        "    for X, y in train_loader:\n",
        "        optimizer.zero_grad()\n",
        "        output = model(X)\n",
        "\n",
        "        loss = criterion(output, y)\n",
        "\n",
        "        loss.backward()\n",
        "        optimizer.step()\n",
        "        total_loss += loss.item()\n",
        "\n",
        "    print(f\"Epoch [{epoch+1}/{num_epochs}], Train Loss: {total_loss / len(train_loader):.4f}\")\n"
      ],
      "metadata": {
        "colab": {
          "base_uri": "https://localhost:8080/"
        },
        "id": "g9lnngLGZHir",
        "outputId": "38b86880-5a1c-4ee3-8044-9e26ec24b0a2"
      },
      "execution_count": 31,
      "outputs": [
        {
          "output_type": "stream",
          "name": "stdout",
          "text": [
            "Epoch [1/50], Train Loss: 4.9075\n",
            "Epoch [2/50], Train Loss: 3.3447\n",
            "Epoch [3/50], Train Loss: 1.6302\n",
            "Epoch [4/50], Train Loss: 0.6191\n",
            "Epoch [5/50], Train Loss: 0.2655\n",
            "Epoch [6/50], Train Loss: 0.1163\n",
            "Epoch [7/50], Train Loss: 0.0498\n",
            "Epoch [8/50], Train Loss: 0.0273\n",
            "Epoch [9/50], Train Loss: 0.0165\n",
            "Epoch [10/50], Train Loss: 0.0115\n",
            "Epoch [11/50], Train Loss: 0.0087\n",
            "Epoch [12/50], Train Loss: 0.0070\n",
            "Epoch [13/50], Train Loss: 0.0057\n",
            "Epoch [14/50], Train Loss: 0.0048\n",
            "Epoch [15/50], Train Loss: 0.0040\n",
            "Epoch [16/50], Train Loss: 0.0034\n",
            "Epoch [17/50], Train Loss: 0.0030\n",
            "Epoch [18/50], Train Loss: 0.0026\n",
            "Epoch [19/50], Train Loss: 0.0022\n",
            "Epoch [20/50], Train Loss: 0.0020\n",
            "Epoch [21/50], Train Loss: 0.0017\n",
            "Epoch [22/50], Train Loss: 0.0015\n",
            "Epoch [23/50], Train Loss: 0.0014\n",
            "Epoch [24/50], Train Loss: 0.0012\n",
            "Epoch [25/50], Train Loss: 0.0011\n",
            "Epoch [26/50], Train Loss: 0.0010\n",
            "Epoch [27/50], Train Loss: 0.0009\n",
            "Epoch [28/50], Train Loss: 0.0008\n",
            "Epoch [29/50], Train Loss: 0.0007\n",
            "Epoch [30/50], Train Loss: 0.0007\n",
            "Epoch [31/50], Train Loss: 0.0006\n",
            "Epoch [32/50], Train Loss: 0.0005\n",
            "Epoch [33/50], Train Loss: 0.0005\n",
            "Epoch [34/50], Train Loss: 0.0005\n",
            "Epoch [35/50], Train Loss: 0.0004\n",
            "Epoch [36/50], Train Loss: 0.0004\n",
            "Epoch [37/50], Train Loss: 0.0003\n",
            "Epoch [38/50], Train Loss: 0.0003\n",
            "Epoch [39/50], Train Loss: 0.0003\n",
            "Epoch [40/50], Train Loss: 0.0003\n",
            "Epoch [41/50], Train Loss: 0.0002\n",
            "Epoch [42/50], Train Loss: 0.0002\n",
            "Epoch [43/50], Train Loss: 0.0002\n",
            "Epoch [44/50], Train Loss: 0.0002\n",
            "Epoch [45/50], Train Loss: 0.0002\n",
            "Epoch [46/50], Train Loss: 0.0002\n",
            "Epoch [47/50], Train Loss: 0.0001\n",
            "Epoch [48/50], Train Loss: 0.0001\n",
            "Epoch [49/50], Train Loss: 0.0001\n",
            "Epoch [50/50], Train Loss: 0.0001\n"
          ]
        }
      ]
    },
    {
      "cell_type": "code",
      "source": [
        "model.eval()\n",
        "test_loss = 0\n",
        "with torch.no_grad():\n",
        "    for X, y in test_loader:\n",
        "        output = model(X)\n",
        "        loss = criterion(output, y)\n",
        "        test_loss += loss.item()\n",
        "\n",
        "print(f\"\\nTest Loss: {test_loss / len(test_loader):.4f}\")"
      ],
      "metadata": {
        "colab": {
          "base_uri": "https://localhost:8080/"
        },
        "id": "um6skb6tfjxM",
        "outputId": "c8f14ed1-493f-4383-fcc2-48f1d43a678c"
      },
      "execution_count": 32,
      "outputs": [
        {
          "output_type": "stream",
          "name": "stdout",
          "text": [
            "\n",
            "Test Loss: 0.1071\n"
          ]
        }
      ]
    },
    {
      "cell_type": "code",
      "source": [
        "def summarize_corpus(model, corpus_text):\n",
        "    \"\"\" Résume l'ensemble du corpus en une seule fois \"\"\"\n",
        "    model.eval()\n",
        "    with torch.no_grad():\n",
        "        indexed_corpus = [word_to_index.get(word, word_to_index[\"<unk>\"]) for word in corpus_text.split()]\n",
        "        input_tensor = torch.tensor(indexed_corpus).unsqueeze(0)  # Ajouter batch dimension\n",
        "        output_tensor = model(input_tensor)\n",
        "        output_indices = torch.argmax(output_tensor, dim=1).squeeze().tolist()\n",
        "        summarized_corpus = \" \".join(index_to_word[idx] for idx in output_indices)\n",
        "        return summarized_corpus\n",
        "\n",
        "# Reconstruction du texte global à partir de test_loader\n",
        "test_corpus = []\n",
        "for test_X, _ in test_loader:\n",
        "    for i in range(test_X.size(0)):\n",
        "        sentence = \" \".join(index_to_word[idx.item()] for idx in test_X[i])\n",
        "        test_corpus.append(sentence)\n",
        "\n",
        "global_test_text = \" \".join(test_corpus)\n",
        "\n",
        "global_summary = summarize_corpus(model, global_test_text)\n",
        "\n",
        "print(\"=\" * 80)\n",
        "print(\"\\033[1m📜 TEXTE ORIGINAL (Données de test) 📜\\033[0m\")\n",
        "print(\"=\" * 80)\n",
        "print(\"\\n\".join(test_corpus[:10]))\n",
        "print(\"...\\n\")\n",
        "print(\"=\" * 80)\n",
        "print(\"\\033[1m✍️  RÉSUMÉ GÉNÉRÉ  ✍️\\033[0m\")\n",
        "print(\"=\" * 80)\n",
        "print(global_summary)\n",
        "print(\"=\" * 80)\n"
      ],
      "metadata": {
        "colab": {
          "base_uri": "https://localhost:8080/"
        },
        "id": "iZF6QkdNTRDS",
        "outputId": "e131b4e0-52a5-45d3-c466-07bb2c2c0920"
      },
      "execution_count": 33,
      "outputs": [
        {
          "output_type": "stream",
          "name": "stdout",
          "text": [
            "================================================================================\n",
            "\u001b[1m📜 TEXTE ORIGINAL (Données de test) 📜\u001b[0m\n",
            "================================================================================\n",
            "être guerriers dans ce monde que nous-mêmes on a détruit Qu’on n’a pas respecté ces\n",
            "ferions-nous pour sourire sans que ça sonne faux ? Faudrait qu’on apprenne à accepter nos\n",
            "et, au fait, je n’ai honte de rien Alors arrêtez de créer de la différence\n",
            "monde déchiré Qui, obsédé par le pouvoir, en oublie sa dignité J’attends toujours ce changement\n",
            "au fait, je n’ai honte de rien Alors arrêtez de créer de la différence entre\n",
            "le matériel Et se passer des dons, sa dépendance actuelle Quel gâchis d’avoir une terre\n",
            "pour sourire sans que ça sonne faux ? Faudrait qu’on apprenne à accepter nos différences\n",
            "dirions-nous à nos fils ? Qu’ils devront être guerriers dans ce monde que nous-mêmes on\n",
            "faire porter, forcer le racisme avec Que je devrais avoir honte de mes origines, enfant\n",
            "à force, on nous apprend à cultiver de la haine Alors égalisons le monde à\n",
            "...\n",
            "\n",
            "================================================================================\n",
            "\u001b[1m✍️  RÉSUMÉ GÉNÉRÉ  ✍️\u001b[0m\n",
            "================================================================================\n",
            "besoin de ce monde que nous-mêmes on a détruit Qu’on n’a pas respecté ces mots que que que que se déshumanise ? ? Faudrait qu’on aux à accepter nos différences Qu’une en je à besoin de la Alors arrêtez de créer de la peine entre le Qui, obsédé par le pouvoir, en oublie sa dignité J’attends toujours ce faux discours avant d’être il honte de rien Alors égalisons de créer de la peine entre la laisse Et se passer des dons, sa dépendance actuelle Quel gâchis d’avoir une terre fertile fertile fertile ? pour sonne faux ? Faudrait qu’on apprenne à accepter nos différences Qu’une Qu’une nos différences accepter Moi, devront mourir guerriers dans ce monde que nous-mêmes on a des faire le racisme avec Que je devrais avoir honte de mes origines, enfant africain, ça la fortifient apprend le cultiver de la peine Alors égalisons le monde à égalisons égalisons de créer origines, enfant africain, ça fait de la peine De vos cheveux, vos vos vos cheveux, visages plus importantes que le pouvoir Et qu’on n’a même pas a Et dit exécuté, avait déjà des demi-tour Y’a des personnes qui tendent la main, main, tous rois On en commun je me bats contre le monde pour ce complexe Qu’on veut l’histoire mais pas d’argent pour acheter les graines Et à force, on nous à nous s’accroître, à force, on nous apprend à cultiver de la haine Alors égalisons égalisons égalisons égalisons devrais Vous aimeriez ma peau et, au fait, je n’ai honte de rien de rien Alors arrêtez de créer de la différence entre les hommes On a tous le monde à la façon Robin des Bois Je volerai des mots aux esclaves esclaves transmettre pouvoir, trébuche des personnes qui tendent la main, y’a des pays qui le le font des ponctuations dignité importantes des le pouvoir Et qu’on n’a même pas besoin besoin lunettes mais mais d’argent d’argent une croyance n’est pas une référence Qu’on réalise qu’il y pour y complexe Qu’on veut me faire porter, forcer le racisme avec Que je devrais honte le monde à la main, Robin des Bois Je volerai des mots aux esclaves esclaves je me me Quand même les mots se vexent si c’est pour parler parler déshumanise lui-même Faudrait déshumanise Face aux ambitions politiques et aux aspects capitalistes J’ai deux, ce déchiré Qui, à pas respecté ces mots que nous-mêmes on a écrits Comment oublier ces guerres et y voir y a des vos visages à votre couleur D’ébène Mais j’ai des des des des des être Face aux esclaves politiques pour aux aspects capitalistes deux, la peine Alors égalisons le monde pour la façon Robin des Bois Je volerai des mots des y a a Qu’on n’a pas respecté ces mots que nous-mêmes on a nous-mêmes l’humain Comment ferions-nous pour sourire sans que des sonne faux ? Faudrait qu’on aux L’Afrique des des enfants que le pouvoir Et qu’on n’a même pas besoin de lunettes y voir pour gérer le matériel Qui, avant d’être exécuté, avait déjà fait demi-tour le texte texte le en en Si on la a s’accroître, que dirions-nous à nos fils esclaves de la différence entre les hommes On a tous en commun l’histoire d’Adam, d’Adam, l’histoire d’Adam, d’Adam, guerres et repartir à zéro ? Comment ferions-nous pour sourire sans enfants sourire que des le des Je volerai volerai devront devront j’ai des que des devront aimeriez personnes sur honte ce changement dans ce faux discours Qui, avant d’être exécuté, avait le main, y’a des pays qui le font aussi Je vais pas rentrer dans les l’histoire à si déshumanise déshumanise bien Vous aimeriez ma peau et, au fait, je n’ai gâchis d’avoir une une mots Et vexent si c’est pour parler de ces concepts besoin d’argent de L’Afrique n’est pas de référence Qu’on réalise qu’il y a des choses à qui fonds origines, enfant africain, ça fait de la peine De vos cheveux, vos visages à votre votre fils ? Qu’ils devront être guerriers dans ce monde que nous-mêmes nous-mêmes me n’a porter, aimeriez le peau et, au fait, je n’ai honte de rien Alors en a tous en commun l’histoire d’Adam, d’Ève et la pomme Ce sont nos égos on a détruit détruit oublier ces guerres et repartir à zéro ? Comment ferions-nous pour sourire pour sourire ce que Et à force, on nous apprend à cultiver de la Alors Alors égalisons de la la a marre des ponctuations Et il y a cette marre d’être J’attends le changement en oublie sa dignité J’attends toujours ce changement dans la discours que dirions-nous des mots aux de malnutrition L’Afrique a besoin de fonds pour y les tête Et me dit : arrête ! Quand même les mots se vexent si on arrête je arrête avoir de le monde pour ce complexe Qu’on veut me faire on nous nous Si on la laisse s’accroître, que dirions-nous à nos fils ? Qu’ils aux à accepter ? j’ai Qu’ils des enfants mourir de malnutrition L’Afrique a besoin de fonds pour gérer voir Alors égalisons le monde à la façon Robin des Bois Je le devrais avoir honte de mes origines, enfant africain, ça fait de la peine De à à D’ébène nos des Qu’ils que des nos des ? Faudrait qu’on de à de malnutrition L’Afrique que nous-mêmes on a écrits Comment oublier ces guerres et repartir à zéro ? ferions-nous ferions-nous racisme avec Que je devrais avoir honte de mes origines, enfant enfant de la peine entre de créer de la peine entre les hommes On a entre les hommes On a tous en commun l’histoire d’Adam, d’Ève et la pomme Ce on sont l’injustice Si de fonds pour la le matériel Et se passer des dons, Et volerai des mots mourir de malnutrition L’Afrique a besoin de fonds pour gérer gérer le le matériel obsédé par le pouvoir, en oublie sa dignité J’attends toujours ce changement origines, ça de créer origines, capitalistes ça deux, fait de pour ce monde déchiré Qui, Et le force, de fonds pour gérer le matériel Et se passer des dons, Et qu’on aux à accepter nos différences Qu’une couleur, une croyance n’est pas une référence référence n’est n’est pour les graines n’est rois Mais en attendant, je me bats contre pour de fonds graines répétition Moi, vu j’ai vu sourire des que des sonne faux enfants de faux en a des vos visages à votre volerai D’ébène Mais j’ai des des aux dans aux à accepter Moi, des enfants des des des que ça sonne des qu’on différences différences Qu’une de la peine De vos cheveux, vos visages à votre couleur\n",
            "================================================================================\n"
          ]
        }
      ]
    },
    {
      "cell_type": "markdown",
      "source": [
        "Source : https://www.kdnuggets.com/2020/07/pytorch-lstm-text-generation-tutorial.html ,\n",
        "ChatGpt, Google pour les recherches et les supports du cours."
      ],
      "metadata": {
        "id": "ClkIjraagJw_"
      }
    },
    {
      "cell_type": "code",
      "source": [],
      "metadata": {
        "id": "fXYUhplKgOi5"
      },
      "execution_count": null,
      "outputs": []
    }
  ]
}